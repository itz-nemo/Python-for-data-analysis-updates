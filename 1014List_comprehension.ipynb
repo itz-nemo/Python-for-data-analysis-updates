{
  "nbformat": 4,
  "nbformat_minor": 0,
  "metadata": {
    "colab": {
      "provenance": []
    },
    "kernelspec": {
      "name": "python3",
      "display_name": "Python 3"
    },
    "language_info": {
      "name": "python"
    }
  },
  "cells": [
    {
      "cell_type": "code",
      "execution_count": 2,
      "metadata": {
        "colab": {
          "base_uri": "https://localhost:8080/"
        },
        "id": "psOX_CpXNRVk",
        "outputId": "2b4e2524-cdbf-4594-82ff-e6d6b9378de6"
      },
      "outputs": [
        {
          "output_type": "stream",
          "name": "stdout",
          "text": [
            "[0, 1, 2, 3]\n"
          ]
        },
        {
          "output_type": "execute_result",
          "data": {
            "text/plain": [
              "[0, 1, 2, 3, 4, 5]"
            ]
          },
          "metadata": {},
          "execution_count": 2
        }
      ],
      "source": [
        "## 1. List comprehension is more redable, efficient and preffered over loop. For example\n",
        "empty = []\n",
        "for i in range(4):\n",
        "  empty.append(i)\n",
        "print(empty)\n",
        "\n",
        "## this requires declaring an empty list and continously updating via appending\n",
        "\n",
        "[i for i in range(6)]\n",
        "\n",
        "## List comprehension on the other hand is more system preferred, is easy to read and requires less steps"
      ]
    },
    {
      "cell_type": "code",
      "source": [
        "## 2. Lets have a simple example of how if else condition can be applied to list comprehension\n",
        "Labels = [\"Even\" if num%2==0 else \"Odd\" for num in range(1,5)]\n",
        "Labels"
      ],
      "metadata": {
        "colab": {
          "base_uri": "https://localhost:8080/"
        },
        "id": "T_FUVEaFN0u8",
        "outputId": "a865dc53-e465-4df3-fec6-9e5576a276bd"
      },
      "execution_count": 5,
      "outputs": [
        {
          "output_type": "execute_result",
          "data": {
            "text/plain": [
              "['Odd', 'Even', 'Odd', 'Even']"
            ]
          },
          "metadata": {},
          "execution_count": 5
        }
      ]
    },
    {
      "cell_type": "code",
      "source": [
        "## 3."
      ],
      "metadata": {
        "id": "ZLXoIQ5oO91T"
      },
      "execution_count": 6,
      "outputs": []
    },
    {
      "cell_type": "code",
      "source": [
        "## 4. Flattening a list\n",
        "list_of_lists = [[1, 2], [3, 4], [5]]\n",
        "flattened1 = []\n",
        "for x in list_of_lists:\n",
        "  for y in x:\n",
        "    flattened1.append(y)\n",
        "print(flattened1)\n",
        "\n",
        "flattened2 = [y for x in list_of_lists for y in x]\n",
        "print(flattened2)\n",
        "\n",
        "# so answer A is correct"
      ],
      "metadata": {
        "colab": {
          "base_uri": "https://localhost:8080/"
        },
        "id": "EIVWxt69PJ4d",
        "outputId": "58d1cf90-e842-4973-a10c-93158292818f"
      },
      "execution_count": 13,
      "outputs": [
        {
          "output_type": "stream",
          "name": "stdout",
          "text": [
            "[1, 2, 3, 4, 5]\n",
            "[1, 2, 3, 4, 5]\n"
          ]
        }
      ]
    },
    {
      "cell_type": "code",
      "source": [
        "## 5. Coded below\n",
        "emails = [\" Alice@EXAMPLE.com  \", \"BOB@sample.com\", \"   claire@EXAMPLE.com\"]\n",
        "email_cleaned = [x.lower().strip() for x in emails]\n",
        "print(email_cleaned)"
      ],
      "metadata": {
        "colab": {
          "base_uri": "https://localhost:8080/"
        },
        "id": "NMIWG2VAP-TP",
        "outputId": "41d69369-735a-4c0b-8211-c7d04917ba71"
      },
      "execution_count": 16,
      "outputs": [
        {
          "output_type": "stream",
          "name": "stdout",
          "text": [
            "['alice@example.com', 'bob@sample.com', 'claire@example.com']\n"
          ]
        }
      ]
    },
    {
      "cell_type": "code",
      "source": [
        "## 6. Coded below\n",
        "scores = [65, 82, 73, 55, 90, 74]\n",
        "[score for score in scores if score>70]"
      ],
      "metadata": {
        "colab": {
          "base_uri": "https://localhost:8080/"
        },
        "id": "hNc4EL2CQk9N",
        "outputId": "00ab1870-d7ef-4268-b740-3c74424bd5b8"
      },
      "execution_count": 22,
      "outputs": [
        {
          "output_type": "execute_result",
          "data": {
            "text/plain": [
              "[82, 73, 90, 74]"
            ]
          },
          "metadata": {},
          "execution_count": 22
        }
      ]
    },
    {
      "cell_type": "code",
      "source": [
        "## 7. Coded below\n",
        "nums = [5, 12, 8, 3]\n",
        "[\"Even\" if num%2==0 else \"Odd\" for num in nums]"
      ],
      "metadata": {
        "colab": {
          "base_uri": "https://localhost:8080/"
        },
        "id": "n21kAUsoQ67V",
        "outputId": "70c0a597-94d9-4df1-cf75-179145e82c62"
      },
      "execution_count": 23,
      "outputs": [
        {
          "output_type": "execute_result",
          "data": {
            "text/plain": [
              "['Odd', 'Even', 'Even', 'Odd']"
            ]
          },
          "metadata": {},
          "execution_count": 23
        }
      ]
    },
    {
      "cell_type": "code",
      "source": [
        "## 8. Coded below\n",
        "matrix = [[1,2],[3,4],[5,6]]\n",
        "[y for x in matrix for y in x]"
      ],
      "metadata": {
        "colab": {
          "base_uri": "https://localhost:8080/"
        },
        "id": "vAMGLygoSGUW",
        "outputId": "5a8378f6-edf0-4b9d-9628-31f08aef01db"
      },
      "execution_count": 30,
      "outputs": [
        {
          "output_type": "execute_result",
          "data": {
            "text/plain": [
              "[1, 2, 3, 4, 5, 6]"
            ]
          },
          "metadata": {},
          "execution_count": 30
        }
      ]
    },
    {
      "cell_type": "code",
      "source": [
        "## 9. Coded below\n",
        "ages = [22, None, 25, 19, None]\n",
        "[\"Missing\" if age == None else age for age in ages]"
      ],
      "metadata": {
        "colab": {
          "base_uri": "https://localhost:8080/"
        },
        "id": "XJWdnh4cST3t",
        "outputId": "4816f8ab-c4de-4336-e8ce-44372a7de085"
      },
      "execution_count": 27,
      "outputs": [
        {
          "output_type": "execute_result",
          "data": {
            "text/plain": [
              "[22, 'Missing', 25, 19, 'Missing']"
            ]
          },
          "metadata": {},
          "execution_count": 27
        }
      ]
    },
    {
      "cell_type": "code",
      "source": [
        "## 10. Coded below\n",
        "users = [\n",
        "  {\"id\": 1, \"active\": True},\n",
        "  {\"id\": 2, \"active\": False},\n",
        "  {\"id\": 3, \"active\": True}\n",
        "]\n",
        "[user[\"id\"] for user in users if user[\"active\"]== True]"
      ],
      "metadata": {
        "colab": {
          "base_uri": "https://localhost:8080/"
        },
        "id": "PmL2DdxpSoeo",
        "outputId": "135e3dc4-b123-4746-dde5-d40247c1fcb6"
      },
      "execution_count": 29,
      "outputs": [
        {
          "output_type": "execute_result",
          "data": {
            "text/plain": [
              "[1, 3]"
            ]
          },
          "metadata": {},
          "execution_count": 29
        }
      ]
    },
    {
      "cell_type": "code",
      "source": [],
      "metadata": {
        "id": "PAD087HJTUaQ"
      },
      "execution_count": null,
      "outputs": []
    }
  ]
}