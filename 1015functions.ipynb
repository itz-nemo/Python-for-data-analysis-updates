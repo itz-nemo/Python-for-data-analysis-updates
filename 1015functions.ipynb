{
  "nbformat": 4,
  "nbformat_minor": 0,
  "metadata": {
    "colab": {
      "provenance": []
    },
    "kernelspec": {
      "name": "python3",
      "display_name": "Python 3"
    },
    "language_info": {
      "name": "python"
    }
  },
  "cells": [
    {
      "cell_type": "code",
      "execution_count": null,
      "metadata": {
        "colab": {
          "base_uri": "https://localhost:8080/"
        },
        "id": "1CFfT3bCS68X",
        "outputId": "abd6348d-12ea-4756-c8c2-e94cd875be47"
      },
      "outputs": [
        {
          "output_type": "execute_result",
          "data": {
            "text/plain": [
              "10"
            ]
          },
          "metadata": {},
          "execution_count": 4
        }
      ],
      "source": [
        "nimish = lambda x:x*2\n",
        "nimish(5)"
      ]
    },
    {
      "cell_type": "code",
      "source": [
        "salary_list = [13000,150000,170000,14000,20000]\n",
        "total_salary = [(lambda x:x*0.1)(salary) for salary in salary_list]\n",
        "total_salary"
      ],
      "metadata": {
        "colab": {
          "base_uri": "https://localhost:8080/"
        },
        "id": "708hdI8GYO5J",
        "outputId": "cf77d26a-593e-442d-fd47-628911b03a57"
      },
      "execution_count": null,
      "outputs": [
        {
          "output_type": "execute_result",
          "data": {
            "text/plain": [
              "[1300.0, 15000.0, 17000.0, 1400.0, 2000.0]"
            ]
          },
          "metadata": {},
          "execution_count": 7
        }
      ]
    },
    {
      "cell_type": "code",
      "source": [
        "jobs_data = [\n",
        "    {'job_title': 'Data Scientist', 'job_skills': ['Python', 'Machine Learning'], 'remote': True},\n",
        "    {'job_title': 'Data Analyst', 'job_skills': ['Excel', 'SQL'], 'remote': False},\n",
        "    {'job_title': 'Machine Learning Engineer', 'job_skills': ['Python', 'TensorFlow', 'Keras'], 'remote': True},\n",
        "    {'job_title': 'Software Developer', 'job_skills': ['Java', 'C++'], 'remote': True},\n",
        "    {'job_title': 'Data Scientist', 'job_skills': ['R', 'Statistics'], 'remote': False}\n",
        "]\n",
        "\n",
        "for job in jobs_data:\n",
        "  print(job[\"job_skills\"])\n"
      ],
      "metadata": {
        "colab": {
          "base_uri": "https://localhost:8080/"
        },
        "id": "iEDXr6tnYpCU",
        "outputId": "25134cd1-ff3f-40e9-bbdc-a96b01d3131e"
      },
      "execution_count": null,
      "outputs": [
        {
          "output_type": "stream",
          "name": "stdout",
          "text": [
            "['Python', 'Machine Learning']\n",
            "['Excel', 'SQL']\n",
            "['Python', 'TensorFlow', 'Keras']\n",
            "['Java', 'C++']\n",
            "['R', 'Statistics']\n"
          ]
        }
      ]
    },
    {
      "cell_type": "code",
      "source": [
        "help(filter)"
      ],
      "metadata": {
        "colab": {
          "base_uri": "https://localhost:8080/"
        },
        "id": "UREJyyIhZdmJ",
        "outputId": "5fae55b6-bcbf-48e1-f21c-4ff40f5d7844"
      },
      "execution_count": null,
      "outputs": [
        {
          "output_type": "stream",
          "name": "stdout",
          "text": [
            "Help on class filter in module builtins:\n",
            "\n",
            "class filter(object)\n",
            " |  filter(function or None, iterable) --> filter object\n",
            " |\n",
            " |  Return an iterator yielding those items of iterable for which function(item)\n",
            " |  is true. If function is None, return the items that are true.\n",
            " |\n",
            " |  Methods defined here:\n",
            " |\n",
            " |  __getattribute__(self, name, /)\n",
            " |      Return getattr(self, name).\n",
            " |\n",
            " |  __iter__(self, /)\n",
            " |      Implement iter(self).\n",
            " |\n",
            " |  __next__(self, /)\n",
            " |      Implement next(self).\n",
            " |\n",
            " |  __reduce__(...)\n",
            " |      Return state information for pickling.\n",
            " |\n",
            " |  ----------------------------------------------------------------------\n",
            " |  Static methods defined here:\n",
            " |\n",
            " |  __new__(*args, **kwargs)\n",
            " |      Create and return a new object.  See help(type) for accurate signature.\n",
            "\n"
          ]
        }
      ]
    },
    {
      "cell_type": "code",
      "source": [
        "jobs_data = [\n",
        "    {'job_title': 'Data Scientist', 'job_skills': ['Python', 'Machine Learning'], 'remote': True},\n",
        "    {'job_title': 'Data Analyst', 'job_skills': ['Excel', 'SQL'], 'remote': False},\n",
        "    {'job_title': 'Machine Learning Engineer', 'job_skills': ['Python', 'TensorFlow', 'Keras'], 'remote': True},\n",
        "    {'job_title': 'Software Developer', 'job_skills': ['Java', 'C++'], 'remote': True},\n",
        "    {'job_title': 'Data Scientist', 'job_skills': ['R', 'Statistics'], 'remote': False}\n",
        "]\n",
        "filtered_jobs = list(filter(lambda job: job['remote'] and \"Python\" in job[\"job_skills\"], jobs_data))\n",
        "[job[\"job_title\"] for job in filtered_jobs]"
      ],
      "metadata": {
        "colab": {
          "base_uri": "https://localhost:8080/"
        },
        "id": "KLXosKZSaylJ",
        "outputId": "4217a9ec-84db-435a-f602-1ab42b69cdce"
      },
      "execution_count": null,
      "outputs": [
        {
          "output_type": "execute_result",
          "data": {
            "text/plain": [
              "['Data Scientist', 'Machine Learning Engineer']"
            ]
          },
          "metadata": {},
          "execution_count": 24
        }
      ]
    },
    {
      "cell_type": "code",
      "source": [
        "## 1. Defining functions help in modularity as in modularity, we break down each big task into smaller tasks with clearly defined actions. Functions help in this\n",
        "## case as it defines what it is doing clearly. Same way, once a definition is created, no need to create any newer tasks."
      ],
      "metadata": {
        "id": "UMtiGgElbU5E"
      },
      "execution_count": null,
      "outputs": []
    },
    {
      "cell_type": "code",
      "source": [
        "## 2. There are 4 types of arguments in python\n",
        "def positional_argument(a,b):\n",
        "  print(f'a is {a} and b is {b}')\n",
        "\n",
        "positional_argument(55,100)\n",
        "\n",
        "def keyword_argument(a=5,b=10):\n",
        "  print(f'b is {b} and a is {a}')\n",
        "\n",
        "keyword_argument()\n",
        "\n",
        "def default_argument(b,a=100):\n",
        "  print(f'a is {a} and b is {b}')\n",
        "\n",
        "default_argument(11)\n",
        "default_argument(11,44)\n",
        "\n",
        "def variable_argument(*args,**kwargs):\n",
        "  print(f'args is {args} and keywords arg is {kwargs}')\n",
        "  print(sum(args))\n",
        "\n",
        "variable_argument(66,11,33,math=44,sciene=99)"
      ],
      "metadata": {
        "id": "_Xk2R-5nQ51G",
        "colab": {
          "base_uri": "https://localhost:8080/"
        },
        "outputId": "cc1b2b53-1412-4d13-a4d1-5faec2d8c384"
      },
      "execution_count": 28,
      "outputs": [
        {
          "output_type": "stream",
          "name": "stdout",
          "text": [
            "a is 55 and b is 100\n",
            "b is 10 and a is 5\n",
            "a is 100 and b is 11\n",
            "a is 44 and b is 11\n",
            "args is (66, 11, 33) and keywords arg is {'math': 44, 'sciene': 99}\n",
            "110\n"
          ]
        }
      ]
    },
    {
      "cell_type": "code",
      "source": [
        "## 3. A Hello Guest! Hello John\n",
        "def greet(name=\"Guest\"):\n",
        "    print(f\"Hello, {name}!\")\n",
        "greet()\n",
        "greet(\"John\")\n"
      ],
      "metadata": {
        "colab": {
          "base_uri": "https://localhost:8080/"
        },
        "id": "eMspZr1KRQCE",
        "outputId": "28366fbf-7ab7-449e-96cf-cc61b4884474"
      },
      "execution_count": null,
      "outputs": [
        {
          "output_type": "stream",
          "name": "stdout",
          "text": [
            "Hello, Guest!\n",
            "Hello, John!\n"
          ]
        }
      ]
    },
    {
      "cell_type": "code",
      "source": [
        "## 4. Ans A"
      ],
      "metadata": {
        "id": "V8W37LELRVgT"
      },
      "execution_count": null,
      "outputs": []
    },
    {
      "cell_type": "code",
      "source": [
        "## 5. Coded below\n",
        "sales = [[3, 19.99], [2, 25.0], [1, 9.5], [5, 5.0], [4, 10.0]]\n",
        "def total_revenue(sales):\n",
        "  sum = 0\n",
        "  for i in range(len(sales)):\n",
        "    sum += sales[i][0]*sales[i][1]\n",
        "  print(sum)\n",
        "\n",
        "total_revenue(sales)\n"
      ],
      "metadata": {
        "colab": {
          "base_uri": "https://localhost:8080/"
        },
        "id": "kt8PhIG4RiO6",
        "outputId": "9369ca1b-da6e-4af3-9f9a-5b405196694f"
      },
      "execution_count": null,
      "outputs": [
        {
          "output_type": "stream",
          "name": "stdout",
          "text": [
            "184.47\n"
          ]
        }
      ]
    },
    {
      "cell_type": "code",
      "source": [
        "sales = [[3, 19.99], [2, 25.0], [1, 9.5], [5, 5.0], [4, 10.0]]\n",
        "print(len(sales))"
      ],
      "metadata": {
        "colab": {
          "base_uri": "https://localhost:8080/"
        },
        "id": "tguKs1lRRuSR",
        "outputId": "f8c6cb3f-07ae-4fca-a8f2-b243fc2a3931"
      },
      "execution_count": null,
      "outputs": [
        {
          "output_type": "stream",
          "name": "stdout",
          "text": [
            "5\n"
          ]
        }
      ]
    },
    {
      "cell_type": "code",
      "source": [
        "## 6. Coded below\n",
        "emails = [\" Alice@EXAMPLE.com  \", \"BOB@sample.com\", \"   claire@EXAMPLE.com\"]\n",
        "emails_refined = [emails[i].strip().lower() for i in range(len(emails))]\n",
        "emails_refined"
      ],
      "metadata": {
        "colab": {
          "base_uri": "https://localhost:8080/"
        },
        "id": "Bz4BQ4MZSt_Z",
        "outputId": "d2376a04-6690-4c92-a5f3-09b456bdcaa1"
      },
      "execution_count": null,
      "outputs": [
        {
          "output_type": "execute_result",
          "data": {
            "text/plain": [
              "['alice@example.com', 'bob@sample.com', 'claire@example.com']"
            ]
          },
          "metadata": {},
          "execution_count": 29
        }
      ]
    },
    {
      "cell_type": "code",
      "source": [
        "## 7 Coded below\n",
        "def apply_discount(price, discount=0.10):\n",
        "  return(price*(1-discount))\n",
        "\n",
        "print(apply_discount(100))\n",
        "print(apply_discount(100,0.20))"
      ],
      "metadata": {
        "colab": {
          "base_uri": "https://localhost:8080/"
        },
        "id": "5UdmPL3LTDBo",
        "outputId": "321f0e6b-4f2e-4245-846c-955ceb6e3c9c"
      },
      "execution_count": null,
      "outputs": [
        {
          "output_type": "stream",
          "name": "stdout",
          "text": [
            "90.0\n",
            "80.0\n"
          ]
        }
      ]
    },
    {
      "cell_type": "code",
      "source": [
        "##8. Coded below\n",
        "nums = [5, 12, 8, 3]\n",
        "odd_numbers = list(filter(lambda x:x%2!=0, nums))\n",
        "print(odd_numbers)"
      ],
      "metadata": {
        "id": "VW4SZoZ6UFjm",
        "colab": {
          "base_uri": "https://localhost:8080/"
        },
        "outputId": "19c19b57-9cdf-46f5-a69e-924cf43248e3"
      },
      "execution_count": 12,
      "outputs": [
        {
          "output_type": "stream",
          "name": "stdout",
          "text": [
            "[5, 3]\n"
          ]
        }
      ]
    },
    {
      "cell_type": "code",
      "source": [
        "##9. Coded below\n",
        "def show_scores(*args,**kwargs):\n",
        "  print (f'This is args:{args}')\n",
        "  print(f'This is keywords args{kwargs}')\n",
        "\n",
        "show_scores(45,55,math=65,science=75)"
      ],
      "metadata": {
        "colab": {
          "base_uri": "https://localhost:8080/"
        },
        "id": "l2IRot2Y9-9S",
        "outputId": "c672baf3-d08a-4cfa-967e-e0f929cef258"
      },
      "execution_count": 15,
      "outputs": [
        {
          "output_type": "stream",
          "name": "stdout",
          "text": [
            "This is args:(45, 55)\n",
            "This is keywords args{'math': 65, 'science': 75}\n"
          ]
        }
      ]
    },
    {
      "cell_type": "code",
      "source": [
        "##10. Coded below\n",
        "def demon(arg1):\n",
        "  arg2 = arg1*2\n",
        "  print(arg2)\n",
        "\n",
        "demon(45)\n",
        "print(arg2)"
      ],
      "metadata": {
        "colab": {
          "base_uri": "https://localhost:8080/",
          "height": 198
        },
        "id": "wIcZq-9GAhDM",
        "outputId": "9504798c-7fc5-4bd8-f1e7-e320357fe7eb"
      },
      "execution_count": 17,
      "outputs": [
        {
          "output_type": "stream",
          "name": "stdout",
          "text": [
            "90\n"
          ]
        },
        {
          "output_type": "error",
          "ename": "NameError",
          "evalue": "name 'arg2' is not defined",
          "traceback": [
            "\u001b[0;31m---------------------------------------------------------------------------\u001b[0m",
            "\u001b[0;31mNameError\u001b[0m                                 Traceback (most recent call last)",
            "\u001b[0;32m/tmp/ipython-input-1437919512.py\u001b[0m in \u001b[0;36m<cell line: 0>\u001b[0;34m()\u001b[0m\n\u001b[1;32m      4\u001b[0m \u001b[0;34m\u001b[0m\u001b[0m\n\u001b[1;32m      5\u001b[0m \u001b[0mdemon\u001b[0m\u001b[0;34m(\u001b[0m\u001b[0;36m45\u001b[0m\u001b[0;34m)\u001b[0m\u001b[0;34m\u001b[0m\u001b[0;34m\u001b[0m\u001b[0m\n\u001b[0;32m----> 6\u001b[0;31m \u001b[0mprint\u001b[0m\u001b[0;34m(\u001b[0m\u001b[0marg2\u001b[0m\u001b[0;34m)\u001b[0m\u001b[0;34m\u001b[0m\u001b[0;34m\u001b[0m\u001b[0m\n\u001b[0m",
            "\u001b[0;31mNameError\u001b[0m: name 'arg2' is not defined"
          ]
        }
      ]
    },
    {
      "cell_type": "code",
      "source": [],
      "metadata": {
        "id": "2xGsudZzBBx_"
      },
      "execution_count": null,
      "outputs": []
    }
  ]
}