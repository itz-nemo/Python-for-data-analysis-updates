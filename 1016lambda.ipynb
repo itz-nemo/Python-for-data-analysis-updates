{
  "nbformat": 4,
  "nbformat_minor": 0,
  "metadata": {
    "colab": {
      "provenance": []
    },
    "kernelspec": {
      "name": "python3",
      "display_name": "Python 3"
    },
    "language_info": {
      "name": "python"
    }
  },
  "cells": [
    {
      "cell_type": "code",
      "execution_count": 2,
      "metadata": {
        "id": "7g97snoJJRkV"
      },
      "outputs": [],
      "source": [
        "##1"
      ]
    },
    {
      "cell_type": "code",
      "source": [
        "##2"
      ],
      "metadata": {
        "id": "fNK9iDuhJh-F"
      },
      "execution_count": 3,
      "outputs": []
    },
    {
      "cell_type": "code",
      "source": [
        "##3 A lambda x:x2"
      ],
      "metadata": {
        "id": "3BEr2Mr5JjPg"
      },
      "execution_count": 4,
      "outputs": []
    },
    {
      "cell_type": "code",
      "source": [
        "##4 D sort by absolute value\n",
        "vals = [-3,-2.4,4,5]\n",
        "values = sorted(vals, key = lambda x: abs(x))\n",
        "print(values)"
      ],
      "metadata": {
        "colab": {
          "base_uri": "https://localhost:8080/"
        },
        "id": "Z3xTo8vFJm5a",
        "outputId": "d616e033-8c24-4578-c68d-8f59633cf861"
      },
      "execution_count": 16,
      "outputs": [
        {
          "output_type": "stream",
          "name": "stdout",
          "text": [
            "[-2.4, -3, 4, 5]\n"
          ]
        }
      ]
    },
    {
      "cell_type": "code",
      "source": [
        "##5 # Function to add two numbers\n",
        "salaries = [40000, 55000, 72000, 39000]\n",
        "new_salaries = map(lambda x: x*1.15,salaries)\n",
        "print(list(new_salaries))"
      ],
      "metadata": {
        "colab": {
          "base_uri": "https://localhost:8080/"
        },
        "id": "A52ZfYinJ8_g",
        "outputId": "e1030f19-4975-46b5-f4a1-467d34b2d421"
      },
      "execution_count": 23,
      "outputs": [
        {
          "output_type": "stream",
          "name": "stdout",
          "text": [
            "[46000.0, 63249.99999999999, 82800.0, 44850.0]\n"
          ]
        }
      ]
    },
    {
      "cell_type": "code",
      "source": [
        "##6 Coded below\n",
        "emails = ['alice@example.com', 'bob@sample.com', 'carol@example.com', 'dan@company.org']\n",
        "\n",
        "filtered_lambda = filter(lambda x: x.split('@')[1] == 'example.com',emails)\n",
        "print(list(filtered_lambda))\n",
        "\n",
        "filtered_listcomprehension = [e for e in emails if e.split('@')[1] == 'example.com']\n",
        "print(filtered_listcomprehension)\n",
        "\n",
        "filtered_loop = []\n",
        "for e in emails:\n",
        "  if e.split('@')[1] == 'example.com':\n",
        "    filtered_loop.append(e)\n",
        "print(filtered_loop)\n",
        "\n"
      ],
      "metadata": {
        "colab": {
          "base_uri": "https://localhost:8080/"
        },
        "id": "ToAk_vISMjIa",
        "outputId": "b3a62da2-77cc-493f-ec70-a167c793f22d"
      },
      "execution_count": 41,
      "outputs": [
        {
          "output_type": "stream",
          "name": "stdout",
          "text": [
            "['alice@example.com', 'carol@example.com']\n",
            "['alice@example.com', 'carol@example.com']\n",
            "['alice@example.com', 'carol@example.com']\n"
          ]
        }
      ]
    },
    {
      "cell_type": "code",
      "source": [
        "##7\n",
        "jobs = [\n",
        "    {\"title\": \"Analyst\", \"salary\": 70000},\n",
        "    {\"title\": \"Manager\", \"salary\": 95000},\n",
        "    {\"title\": \"Clerk\", \"salary\": 45000}\n",
        "]\n",
        "new_list = sorted(jobs, key = lambda x: x['salary'])\n",
        "print(new_list)"
      ],
      "metadata": {
        "colab": {
          "base_uri": "https://localhost:8080/"
        },
        "id": "RoMMdi8dPBdb",
        "outputId": "3613cfc0-a056-41fa-8398-a605cb65ce4f"
      },
      "execution_count": 44,
      "outputs": [
        {
          "output_type": "stream",
          "name": "stdout",
          "text": [
            "[{'title': 'Clerk', 'salary': 45000}, {'title': 'Analyst', 'salary': 70000}, {'title': 'Manager', 'salary': 95000}]\n"
          ]
        }
      ]
    },
    {
      "cell_type": "code",
      "source": [
        "##8\n",
        "users = [{\"name\": \"alice\"}, {\"name\": \"BOB\"}, {\"name\": \"Eve\"}]\n",
        "new_users = map(lambda x:x['name'] if x['name'].isupper() else None,users)\n",
        "mapped = [e for e in new_users if e is not None]\n",
        "print(mapped)"
      ],
      "metadata": {
        "colab": {
          "base_uri": "https://localhost:8080/"
        },
        "id": "4xFRG-RvUC5J",
        "outputId": "da579d11-7a88-459e-f871-f9149ea50cd0"
      },
      "execution_count": 52,
      "outputs": [
        {
          "output_type": "stream",
          "name": "stdout",
          "text": [
            "['BOB']\n"
          ]
        }
      ]
    },
    {
      "cell_type": "code",
      "source": [
        "##9\n",
        "data = [\n",
        "    {'user': 'Alice', 'completion': 0.89},\n",
        "    {'user': 'Bob', 'completion': 0.95},\n",
        "    {'user': 'Carol', 'completion': 0.67}\n",
        "]\n",
        "new_data = min(map(lambda x: x['completion'], data))\n",
        "new_data\n",
        "\n",
        "data2 = min(data, key=lambda x:x['completion'])\n",
        "print(data2)"
      ],
      "metadata": {
        "colab": {
          "base_uri": "https://localhost:8080/"
        },
        "id": "FTaxLNXfUu7b",
        "outputId": "691fb624-c6bf-4ba5-d8e3-141f6846bd51"
      },
      "execution_count": 61,
      "outputs": [
        {
          "output_type": "stream",
          "name": "stdout",
          "text": [
            "{'user': 'Carol', 'completion': 0.67}\n"
          ]
        }
      ]
    },
    {
      "cell_type": "code",
      "source": [
        "#10\n",
        "from functools import reduce\n",
        "nums = [2, 3, 5]\n",
        "sum_final = reduce(lambda x,y:x+y, nums)\n",
        "sum_final"
      ],
      "metadata": {
        "colab": {
          "base_uri": "https://localhost:8080/"
        },
        "id": "yqk6q0DsWhHY",
        "outputId": "189d734e-560b-454c-f0b5-15056c9d1a51"
      },
      "execution_count": 63,
      "outputs": [
        {
          "output_type": "execute_result",
          "data": {
            "text/plain": [
              "10"
            ]
          },
          "metadata": {},
          "execution_count": 63
        }
      ]
    },
    {
      "cell_type": "code",
      "source": [],
      "metadata": {
        "id": "_DGG7uV9ZoFC"
      },
      "execution_count": null,
      "outputs": []
    }
  ]
}