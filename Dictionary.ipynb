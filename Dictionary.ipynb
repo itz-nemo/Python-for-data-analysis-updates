{
  "nbformat": 4,
  "nbformat_minor": 0,
  "metadata": {
    "colab": {
      "provenance": []
    },
    "kernelspec": {
      "name": "python3",
      "display_name": "Python 3"
    },
    "language_info": {
      "name": "python"
    }
  },
  "cells": [
    {
      "cell_type": "code",
      "execution_count": 3,
      "metadata": {
        "colab": {
          "base_uri": "https://localhost:8080/"
        },
        "id": "r3uzngmMcsFB",
        "outputId": "885e0859-0854-42ec-adf6-b3f027e917ff"
      },
      "outputs": [
        {
          "output_type": "stream",
          "name": "stdout",
          "text": [
            "Nimish\n",
            "None\n",
            "25\n"
          ]
        }
      ],
      "source": [
        "name = {\"name\" : \"Nimish\"}\n",
        "print(name.get(\"name\"))\n",
        "print(name.get(\"age\"))\n",
        "print(name.get(\"age\",25))"
      ]
    },
    {
      "cell_type": "code",
      "source": [
        "print(name[\"name\"])"
      ],
      "metadata": {
        "colab": {
          "base_uri": "https://localhost:8080/"
        },
        "id": "K30AhIkhdtxW",
        "outputId": "129ff6d0-2d3f-41b3-d7ec-8a13a2f6140b"
      },
      "execution_count": 5,
      "outputs": [
        {
          "output_type": "stream",
          "name": "stdout",
          "text": [
            "Nimish\n"
          ]
        }
      ]
    },
    {
      "cell_type": "code",
      "source": [
        "visits = {}\n",
        "visits.setdefault(\"America\",0)\n",
        "visits[\"America\"] += 1\n",
        "print(visits[\"America\"])\n",
        "visits.setdefault(\"India\",0)\n",
        "visits[\"India\"] += 4\n",
        "print(visits[\"India\"])"
      ],
      "metadata": {
        "colab": {
          "base_uri": "https://localhost:8080/"
        },
        "id": "ov3621E0eItD",
        "outputId": "881f010d-4da9-4b17-ceb8-1961c6532e57"
      },
      "execution_count": 11,
      "outputs": [
        {
          "output_type": "stream",
          "name": "stdout",
          "text": [
            "1\n",
            "4\n"
          ]
        }
      ]
    },
    {
      "cell_type": "code",
      "source": [
        "from collections import defaultdict"
      ],
      "metadata": {
        "id": "KPMoIjgdfhGV"
      },
      "execution_count": 12,
      "outputs": []
    },
    {
      "cell_type": "code",
      "source": [
        "visits = defaultdict(int)\n",
        "visits[\"America\"] += 1\n",
        "visits[\"India\"] +=5\n",
        "visits[\"America\"] +=3\n",
        "print(visits[\"America\"])\n",
        "print(visits[\"India\"])\n",
        "\n"
      ],
      "metadata": {
        "colab": {
          "base_uri": "https://localhost:8080/"
        },
        "id": "ursHVl3IgFP5",
        "outputId": "e1511e21-bba9-4be3-ba6a-4d5b42e3906e"
      },
      "execution_count": 15,
      "outputs": [
        {
          "output_type": "stream",
          "name": "stdout",
          "text": [
            "4\n",
            "5\n"
          ]
        }
      ]
    },
    {
      "cell_type": "code",
      "source": [],
      "metadata": {
        "id": "Uje6VQvgg0_t"
      },
      "execution_count": null,
      "outputs": []
    }
  ]
}