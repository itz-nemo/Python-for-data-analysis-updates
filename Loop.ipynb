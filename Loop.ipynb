{
  "nbformat": 4,
  "nbformat_minor": 0,
  "metadata": {
    "colab": {
      "provenance": []
    },
    "kernelspec": {
      "name": "python3",
      "display_name": "Python 3"
    },
    "language_info": {
      "name": "python"
    }
  },
  "cells": [
    {
      "cell_type": "code",
      "execution_count": 1,
      "metadata": {
        "colab": {
          "base_uri": "https://localhost:8080/"
        },
        "id": "hCzz9peSsO1i",
        "outputId": "4ada8f44-0d71-4cd1-a781-f1865ed5b309"
      },
      "outputs": [
        {
          "output_type": "stream",
          "name": "stdout",
          "text": [
            "Heelo\n"
          ]
        }
      ],
      "source": [
        "print(\"Heelo\")"
      ]
    },
    {
      "cell_type": "code",
      "source": [
        "for n in range(2, 10):\n",
        "    for x in range(2, n):\n",
        "        if n % x == 0:\n",
        "            print(n, \"is composite\")\n",
        "            break\n",
        "    else:\n",
        "        print(n, \"is prime\")   # executed if loop wasn’t broken\n"
      ],
      "metadata": {
        "colab": {
          "base_uri": "https://localhost:8080/"
        },
        "id": "E0uASq3xsTWa",
        "outputId": "b5151578-e880-4bc3-bf7b-6a815aee76c2"
      },
      "execution_count": 2,
      "outputs": [
        {
          "output_type": "stream",
          "name": "stdout",
          "text": [
            "2 is prime\n",
            "3 is prime\n",
            "4 is composite\n",
            "5 is prime\n",
            "6 is composite\n",
            "7 is prime\n",
            "8 is composite\n",
            "9 is composite\n"
          ]
        }
      ]
    },
    {
      "cell_type": "code",
      "source": [
        "sales = [[3, 19.99], [2, 25.0], [1, 9.5], [5, 5.0], [4, 10.0]]\n",
        "sum = 0\n",
        "for sale in sales:\n",
        "  sum += sale[0]*sale[1]\n",
        "\n",
        "print(sum)"
      ],
      "metadata": {
        "colab": {
          "base_uri": "https://localhost:8080/"
        },
        "id": "Qo5m9NiJvTQy",
        "outputId": "6aa0a012-1fe5-4983-c480-3d7b386fe002"
      },
      "execution_count": 2,
      "outputs": [
        {
          "output_type": "stream",
          "name": "stdout",
          "text": [
            "184.47\n"
          ]
        }
      ]
    },
    {
      "cell_type": "code",
      "source": [
        "deltas = [7, 3, 0, 4, 2, -1, 5,-7]\n",
        "list_pos = []\n",
        "list_neg = []\n",
        "value = False\n",
        "for delta in deltas:\n",
        "  if delta < 0:\n",
        "    list_neg.append(delta)\n",
        "    value = True\n",
        "\n",
        "  else:\n",
        "    list_pos.append(delta)\n",
        "\n",
        "if value == False:\n",
        "  print(list_pos)\n",
        "else:\n",
        "  print(list_neg)\n",
        ""
      ],
      "metadata": {
        "colab": {
          "base_uri": "https://localhost:8080/"
        },
        "id": "Lwz6XYeE_1SX",
        "outputId": "2079e8d5-effb-4ed5-ac11-73331e2c4f1f"
      },
      "execution_count": 10,
      "outputs": [
        {
          "output_type": "stream",
          "name": "stdout",
          "text": [
            "[-1, -7]\n"
          ]
        }
      ]
    },
    {
      "cell_type": "code",
      "source": [
        "deltas = [7, 3, 0, 4, 2, 5]\n",
        "list_pos = []\n",
        "value = False\n",
        "for delta in deltas:\n",
        "  if delta < 0:\n",
        "    print (delta)\n",
        "    value = True\n",
        "    break\n",
        "\n",
        "  else:\n",
        "    list_pos.append(delta)\n",
        "\n",
        "if value == False:\n",
        "  print(list_pos)\n"
      ],
      "metadata": {
        "colab": {
          "base_uri": "https://localhost:8080/"
        },
        "id": "ofeFD68vAifq",
        "outputId": "f667ed81-f88a-412b-beb8-4f457097bf6d"
      },
      "execution_count": 7,
      "outputs": [
        {
          "output_type": "stream",
          "name": "stdout",
          "text": [
            "[7, 3, 0, 4, 2, 5]\n"
          ]
        }
      ]
    },
    {
      "cell_type": "code",
      "source": [
        "deltas = [7, 3, 0, 4, 2, 5]\n",
        "i = 0\n",
        "while i<len(deltas):\n",
        "  if deltas[i]<0:\n",
        "    print(delta[i])\n",
        "    break\n",
        "  i+=1\n",
        "else:\n",
        "  print(\"All non-negative\")"
      ],
      "metadata": {
        "colab": {
          "base_uri": "https://localhost:8080/"
        },
        "id": "HjEIdkMCCehQ",
        "outputId": "6b532926-472a-4b4c-ef7b-1313007c4775"
      },
      "execution_count": 2,
      "outputs": [
        {
          "output_type": "stream",
          "name": "stdout",
          "text": [
            "All non-negative\n"
          ]
        }
      ]
    },
    {
      "cell_type": "code",
      "source": [
        "# Define data science job roles and required skills\n",
        "job_roles = [\n",
        "    {'role': 'Data Analyst', 'skills': ['Python', 'SQL', 'Excel']},\n",
        "    {'role': 'Data Scientist', 'skills': ['Python', 'R', 'Machine Learning', 'Deep Learning']},\n",
        "    {'role': 'Machine Learning Engineer', 'skills': ['Python', 'TensorFlow', 'PyTorch', 'Scikit-Learn']},\n",
        "    {'role': 'Data Engineer', 'skills': ['Python', 'Apache Spark', 'Hadoop', 'SQL']},\n",
        "    {'role': 'Business Intelligence Analyst', 'skills': ['Python', 'SQL', 'Tableau', 'Power BI', 'Excel']},\n",
        "    {'role': 'Quantitative Analyst', 'skills': ['R', 'Python', 'MATLAB', 'Statistics']},\n",
        "    {'role': 'Operations Analyst', 'skills': ['Python', 'SQL', 'Data Visualization', 'Process Improvement']},\n",
        "    {'role': 'Database Administrator', 'skills': ['SQL', 'Oracle', 'MySQL', 'Database Management']},\n",
        "    {'role': 'AI Engineer', 'skills': ['Python', 'TensorFlow', 'PyTorch', 'Computer Vision']},\n",
        "    {'role': 'Statistician', 'skills': ['R', 'SAS', 'Python', 'Statistical Modeling']}\n",
        "]\n",
        "# My skills\n",
        "my_skills = ['Python', 'SQL', 'Excel']"
      ],
      "metadata": {
        "id": "t3bMW9CIDzKo"
      },
      "execution_count": 3,
      "outputs": []
    },
    {
      "cell_type": "code",
      "source": [
        "count = 0\n",
        "for job in job_roles:\n",
        "  for skill in job[\"skills\"]:\n",
        "    if skill in my_skills:\n",
        "      print(job[\"role\"])\n",
        "      count +=1\n",
        "      break\n",
        "print(count)\n",
        ""
      ],
      "metadata": {
        "colab": {
          "base_uri": "https://localhost:8080/"
        },
        "id": "a-8HLn6fkMMq",
        "outputId": "ff7e9912-d641-4bdb-b4cd-8d99559eb78f"
      },
      "execution_count": 20,
      "outputs": [
        {
          "output_type": "stream",
          "name": "stdout",
          "text": [
            "Data Analyst\n",
            "Data Scientist\n",
            "Machine Learning Engineer\n",
            "Data Engineer\n",
            "Business Intelligence Analyst\n",
            "Quantitative Analyst\n",
            "Operations Analyst\n",
            "Database Administrator\n",
            "AI Engineer\n",
            "Statistician\n",
            "10\n"
          ]
        }
      ]
    },
    {
      "cell_type": "code",
      "source": [
        "# Define data science job roles and required skills\n",
        "job_roles = [\n",
        "    {'role': 'Data Analyst', 'skills': ['Python', 'SQL', 'Excel']},\n",
        "    {'role': 'Data Scientist', 'skills': ['Python', 'R', 'Machine Learning', 'Deep Learning']},\n",
        "    {'role': 'Machine Learning Engineer', 'skills': ['Python', 'TensorFlow', 'PyTorch', 'Scikit-Learn']},\n",
        "    {'role': 'Data Engineer', 'skills': ['Python', 'Apache Spark', 'Hadoop', 'SQL']},\n",
        "    {'role': 'Business Intelligence Analyst', 'skills': ['Python', 'SQL', 'Tableau', 'Power BI', 'Excel']},\n",
        "    {'role': 'Quantitative Analyst', 'skills': ['R', 'Python', 'MATLAB', 'Statistics']},\n",
        "    {'role': 'Operations Analyst', 'skills': ['Python', 'SQL', 'Data Visualization', 'Process Improvement']},\n",
        "    {'role': 'Database Administrator', 'skills': ['SQL', 'Oracle', 'MySQL', 'Database Management']},\n",
        "    {'role': 'AI Engineer', 'skills': ['Python', 'TensorFlow', 'PyTorch', 'Computer Vision']},\n",
        "    {'role': 'Statistician', 'skills': ['R', 'SAS', 'Python', 'Statistical Modeling']}\n",
        "]\n",
        "# My skills\n",
        "my_skills = ['Python', 'SQL', 'Excel']\n",
        "\n",
        "for job in job_roles:\n",
        "  qualified = True\n",
        "\n",
        "  for skill in my_skills:\n",
        "    if skill not in job[\"skills\"]:\n",
        "      qualified = False\n",
        "      break\n",
        "\n",
        "  if qualified:\n",
        "      print(job)"
      ],
      "metadata": {
        "colab": {
          "base_uri": "https://localhost:8080/"
        },
        "id": "Jy_QkbxBkQZD",
        "outputId": "b378fc04-0e13-418a-ae1f-8975b24eda1d"
      },
      "execution_count": 24,
      "outputs": [
        {
          "output_type": "stream",
          "name": "stdout",
          "text": [
            "{'role': 'Data Analyst', 'skills': ['Python', 'SQL', 'Excel']}\n",
            "{'role': 'Business Intelligence Analyst', 'skills': ['Python', 'SQL', 'Tableau', 'Power BI', 'Excel']}\n"
          ]
        }
      ]
    },
    {
      "cell_type": "code",
      "source": [
        "deltas = [7, 3, 0, 4, 2, 1, 5]\n",
        "for delta in deltas:\n",
        "  if delta<0:\n",
        "    print(delta)\n",
        "    break\n",
        "\n",
        "else:\n",
        "  print(\"All non-negative\")\n"
      ],
      "metadata": {
        "colab": {
          "base_uri": "https://localhost:8080/"
        },
        "id": "tTITZmJVo_7_",
        "outputId": "50a5d7d3-dc43-497a-9a14-4e02fbc2d4f1"
      },
      "execution_count": 3,
      "outputs": [
        {
          "output_type": "stream",
          "name": "stdout",
          "text": [
            "All non-negative\n"
          ]
        }
      ]
    },
    {
      "cell_type": "code",
      "source": [
        "nums = [10, 105, 50, 200, 30]\n",
        "for num in nums:\n",
        "  if num<100:\n",
        "    print(num)"
      ],
      "metadata": {
        "colab": {
          "base_uri": "https://localhost:8080/"
        },
        "id": "B2KR8Ug7GAf7",
        "outputId": "440244be-7b94-4f10-b1da-e4ee8da0bd83"
      },
      "execution_count": 5,
      "outputs": [
        {
          "output_type": "stream",
          "name": "stdout",
          "text": [
            "10\n",
            "50\n",
            "30\n"
          ]
        }
      ]
    },
    {
      "cell_type": "code",
      "source": [
        "fruits = [\"apple\", \"banana\", \"cherry\"]\n",
        "i = 0\n",
        "for fruit in fruits:\n",
        "  i += 1\n",
        "  print(f'{i}:{fruit}')"
      ],
      "metadata": {
        "colab": {
          "base_uri": "https://localhost:8080/"
        },
        "id": "gFC-ZJBYGjFv",
        "outputId": "2f5540a9-4967-4457-92ee-471c01aac3a4"
      },
      "execution_count": 6,
      "outputs": [
        {
          "output_type": "stream",
          "name": "stdout",
          "text": [
            "1:apple\n",
            "2:banana\n",
            "3:cherry\n"
          ]
        }
      ]
    },
    {
      "cell_type": "code",
      "source": [
        "for i in range(0,21,2):\n",
        "  print(i)"
      ],
      "metadata": {
        "colab": {
          "base_uri": "https://localhost:8080/"
        },
        "id": "kNFCA4-4HcHK",
        "outputId": "38a7ac81-bbcf-4407-8810-9d0286a5c6f0"
      },
      "execution_count": 9,
      "outputs": [
        {
          "output_type": "stream",
          "name": "stdout",
          "text": [
            "0\n",
            "2\n",
            "4\n",
            "6\n",
            "8\n",
            "10\n",
            "12\n",
            "14\n",
            "16\n",
            "18\n",
            "20\n"
          ]
        }
      ]
    },
    {
      "cell_type": "code",
      "source": [
        "[i for i in range(0,21,2)]"
      ],
      "metadata": {
        "colab": {
          "base_uri": "https://localhost:8080/"
        },
        "id": "lYRSVhvDHtDL",
        "outputId": "eb608d85-8d03-4bee-a706-9242947a7728"
      },
      "execution_count": 10,
      "outputs": [
        {
          "output_type": "execute_result",
          "data": {
            "text/plain": [
              "[0, 2, 4, 6, 8, 10, 12, 14, 16, 18, 20]"
            ]
          },
          "metadata": {},
          "execution_count": 10
        }
      ]
    },
    {
      "cell_type": "code",
      "source": [],
      "metadata": {
        "id": "eGyVcod3JVOV"
      },
      "execution_count": null,
      "outputs": []
    },
    {
      "cell_type": "code",
      "source": [
        "ids = [14, 25, 33, 68, 91, 42]\n",
        "# Try again with ids = [14, 25, 42, 68, 91]\n",
        "for id in ids:\n",
        "  if id == 42:\n",
        "    print(\"Found target\")\n",
        "    break\n",
        "else:\n",
        "  print(\"Target not found\")"
      ],
      "metadata": {
        "colab": {
          "base_uri": "https://localhost:8080/"
        },
        "id": "zvjdJNzJIEN-",
        "outputId": "23492d1e-ee48-47d0-c1c5-c3ab96bfff04"
      },
      "execution_count": 12,
      "outputs": [
        {
          "output_type": "stream",
          "name": "stdout",
          "text": [
            "Found target\n"
          ]
        }
      ]
    },
    {
      "cell_type": "code",
      "source": [],
      "metadata": {
        "id": "8gCnB2JBIiuZ"
      },
      "execution_count": null,
      "outputs": []
    }
  ]
}