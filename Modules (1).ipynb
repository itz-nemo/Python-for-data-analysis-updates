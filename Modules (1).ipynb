{
  "nbformat": 4,
  "nbformat_minor": 0,
  "metadata": {
    "colab": {
      "provenance": []
    },
    "kernelspec": {
      "name": "python3",
      "display_name": "Python 3"
    },
    "language_info": {
      "name": "python"
    }
  },
  "cells": [
    {
      "cell_type": "code",
      "execution_count": 1,
      "metadata": {
        "id": "t3n_U2o-sPFY"
      },
      "outputs": [],
      "source": [
        "import my_modules as mm"
      ]
    },
    {
      "cell_type": "code",
      "source": [
        "mm.my_list"
      ],
      "metadata": {
        "id": "Rc63netwskpp",
        "colab": {
          "base_uri": "https://localhost:8080/"
        },
        "outputId": "9cc38a6e-e769-49fb-c038-bb4eea9ab12e"
      },
      "execution_count": 2,
      "outputs": [
        {
          "output_type": "execute_result",
          "data": {
            "text/plain": [
              "['Python', 'SQL', 'Java']"
            ]
          },
          "metadata": {},
          "execution_count": 2
        }
      ]
    },
    {
      "cell_type": "code",
      "source": [
        "mm.lgtv()\n",
        "mm.skill_print(\"Java\")"
      ],
      "metadata": {
        "colab": {
          "base_uri": "https://localhost:8080/",
          "height": 53
        },
        "id": "ev3tnC6gt5WO",
        "outputId": "20dc9f0f-1972-4d8e-82e5-5ae84a3e06f7"
      },
      "execution_count": 3,
      "outputs": [
        {
          "output_type": "stream",
          "name": "stdout",
          "text": [
            "Helllo\n"
          ]
        },
        {
          "output_type": "execute_result",
          "data": {
            "text/plain": [
              "'Java is my favourite skill'"
            ],
            "application/vnd.google.colaboratory.intrinsic+json": {
              "type": "string"
            }
          },
          "metadata": {},
          "execution_count": 3
        }
      ]
    },
    {
      "cell_type": "code",
      "source": [
        "dsj = [\n",
        "    {'job_title': 'Data Scientist', 'job_skills': \"['Python', 'SQL', 'Machine Learning']\", 'job_date': '2023-05-12'},\n",
        "    {'job_title': 'Machine Learning Engineer', 'job_skills': \"['Python', 'TensorFlow', 'Deep Learning']\", 'job_date': '2023-05-15'},\n",
        "    {'job_title': 'Data Analyst', 'job_skills': \"['SQL', 'R', 'Tableau']\", 'job_date': '2023-05-10'},\n",
        "    {'job_title': 'Business Intelligence Developer', 'job_skills': \"['SQL', 'PowerBI', 'Data Warehousing']\", 'job_date': '2023-05-08'},\n",
        "    {'job_title': 'Data Engineer', 'job_skills': \"['Python', 'Spark', 'Hadoop']\", 'job_date': '2023-05-18'},\n",
        "    {'job_title': 'AI Specialist', 'job_skills': \"['Python', 'PyTorch', 'AI Ethics']\", 'job_date': '2023-05-20'}\n",
        "]"
      ],
      "metadata": {
        "id": "wgjlaWIrzijl"
      },
      "execution_count": 4,
      "outputs": []
    },
    {
      "cell_type": "code",
      "source": [
        "from datetime import datetime\n",
        "import ast"
      ],
      "metadata": {
        "id": "qXbNmUTezldG"
      },
      "execution_count": 5,
      "outputs": []
    },
    {
      "cell_type": "code",
      "source": [
        "test_date = dsj[0][\"job_date\"]\n",
        "print(test_date)"
      ],
      "metadata": {
        "colab": {
          "base_uri": "https://localhost:8080/"
        },
        "id": "GhjqSp36zvlA",
        "outputId": "76aca308-7be4-4857-aadc-db1950df5df0"
      },
      "execution_count": 6,
      "outputs": [
        {
          "output_type": "stream",
          "name": "stdout",
          "text": [
            "2023-05-12\n"
          ]
        }
      ]
    },
    {
      "cell_type": "code",
      "source": [
        "print(datetime.strptime(test_date,'%Y-%m-%d'))"
      ],
      "metadata": {
        "colab": {
          "base_uri": "https://localhost:8080/"
        },
        "id": "zESqDkWO0Vw3",
        "outputId": "c453da89-e108-4614-c8d8-3fe8d1f1d908"
      },
      "execution_count": 7,
      "outputs": [
        {
          "output_type": "stream",
          "name": "stdout",
          "text": [
            "2023-05-12 00:00:00\n"
          ]
        }
      ]
    },
    {
      "cell_type": "code",
      "source": [
        "for job in dsj:\n",
        "  job['job_date'] = datetime.strptime(job['job_date'],'%Y-%m-%d')\n",
        "  job['job_skills'] = ast.literal_eval(job['job_skills'])"
      ],
      "metadata": {
        "id": "U9HYhyIb4GaG"
      },
      "execution_count": 8,
      "outputs": []
    },
    {
      "cell_type": "code",
      "source": [
        "dsj"
      ],
      "metadata": {
        "colab": {
          "base_uri": "https://localhost:8080/"
        },
        "id": "BwBD95yu4uS9",
        "outputId": "5f4e4a86-70b4-4219-cd3a-8b90ccc3fdfd"
      },
      "execution_count": 9,
      "outputs": [
        {
          "output_type": "execute_result",
          "data": {
            "text/plain": [
              "[{'job_title': 'Data Scientist',\n",
              "  'job_skills': ['Python', 'SQL', 'Machine Learning'],\n",
              "  'job_date': datetime.datetime(2023, 5, 12, 0, 0)},\n",
              " {'job_title': 'Machine Learning Engineer',\n",
              "  'job_skills': ['Python', 'TensorFlow', 'Deep Learning'],\n",
              "  'job_date': datetime.datetime(2023, 5, 15, 0, 0)},\n",
              " {'job_title': 'Data Analyst',\n",
              "  'job_skills': ['SQL', 'R', 'Tableau'],\n",
              "  'job_date': datetime.datetime(2023, 5, 10, 0, 0)},\n",
              " {'job_title': 'Business Intelligence Developer',\n",
              "  'job_skills': ['SQL', 'PowerBI', 'Data Warehousing'],\n",
              "  'job_date': datetime.datetime(2023, 5, 8, 0, 0)},\n",
              " {'job_title': 'Data Engineer',\n",
              "  'job_skills': ['Python', 'Spark', 'Hadoop'],\n",
              "  'job_date': datetime.datetime(2023, 5, 18, 0, 0)},\n",
              " {'job_title': 'AI Specialist',\n",
              "  'job_skills': ['Python', 'PyTorch', 'AI Ethics'],\n",
              "  'job_date': datetime.datetime(2023, 5, 20, 0, 0)}]"
            ]
          },
          "metadata": {},
          "execution_count": 9
        }
      ]
    },
    {
      "cell_type": "code",
      "source": [],
      "metadata": {
        "id": "9tAvdvFl4wGz"
      },
      "execution_count": 8,
      "outputs": []
    }
  ]
}