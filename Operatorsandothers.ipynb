{
  "nbformat": 4,
  "nbformat_minor": 0,
  "metadata": {
    "colab": {
      "provenance": []
    },
    "kernelspec": {
      "name": "python3",
      "display_name": "Python 3"
    },
    "language_info": {
      "name": "python"
    }
  },
  "cells": [
    {
      "cell_type": "code",
      "execution_count": 7,
      "metadata": {
        "colab": {
          "base_uri": "https://localhost:8080/"
        },
        "id": "QgxMyycgX6Hc",
        "outputId": "89466927-63e1-4bda-ae84-3f76d8119af2"
      },
      "outputs": [
        {
          "output_type": "stream",
          "name": "stdout",
          "text": [
            "Kelly has 6 of experience\n"
          ]
        }
      ],
      "source": [
        "years_experience = {\n",
        "    'Luke' : 3,\n",
        "    'Kelly' : 6,\n",
        "    'Ken' : 4,\n",
        "    'Alex' : 3\n",
        "}\n",
        "for key,value in years_experience.items():\n",
        "  if value > 5:\n",
        "    print(key,'has',value,'of experience')\n"
      ]
    },
    {
      "cell_type": "code",
      "source": [
        "years = 0\n",
        "index = 0\n",
        "year_list = list(years_experience.items())\n",
        "while years<5:\n",
        "  key,years = year_list[index]\n",
        "  if years>=5:\n",
        "    print(key,'has',years,'of experience')\n",
        "  index += 1"
      ],
      "metadata": {
        "colab": {
          "base_uri": "https://localhost:8080/"
        },
        "id": "1NBlJB5CcN8l",
        "outputId": "7d1544f7-5c9d-4528-c4a9-f9bf838e8e66"
      },
      "execution_count": 10,
      "outputs": [
        {
          "output_type": "stream",
          "name": "stdout",
          "text": [
            "Kelly has 6 of experience\n"
          ]
        }
      ]
    },
    {
      "cell_type": "code",
      "source": [
        "a = 44\n",
        "b = 45\n",
        "c = 44\n",
        "print(a==b,a==c,a!=b,a!=c,a<b,a>b)"
      ],
      "metadata": {
        "colab": {
          "base_uri": "https://localhost:8080/"
        },
        "id": "vTCFeuJMhdjW",
        "outputId": "60a333f5-c8c5-4a35-ad17-548d48c04068"
      },
      "execution_count": 2,
      "outputs": [
        {
          "output_type": "stream",
          "name": "stdout",
          "text": [
            "False True True False True False\n"
          ]
        }
      ]
    },
    {
      "cell_type": "code",
      "source": [
        "a = 55\n",
        "b = 5\n",
        "c = 0\n",
        "def division(num,den):\n",
        "  if den != 0 and num>0:\n",
        "    print(num/den)\n",
        "  else:\n",
        "    print(f'denominator is {den}')\n",
        "\n",
        "division(a,b)\n",
        "division(a,c)"
      ],
      "metadata": {
        "colab": {
          "base_uri": "https://localhost:8080/"
        },
        "id": "78_Iu49uEg0T",
        "outputId": "70b20810-87e8-4738-f5f3-46f68542c01c"
      },
      "execution_count": 6,
      "outputs": [
        {
          "output_type": "stream",
          "name": "stdout",
          "text": [
            "11.0\n",
            "denominator is 0\n"
          ]
        }
      ]
    },
    {
      "cell_type": "code",
      "source": [
        "products = [\n",
        "    {\"name\": \"Pen\", \"price\": 15, \"stock\": True},\n",
        "    {\"name\": \"Book\", \"price\": 75, \"stock\": False},\n",
        "    {\"name\": \"Cable\", \"price\": 50, \"stock\": True},\n",
        "    {\"name\": \"Lamp\", \"price\": 100, \"stock\": True},\n",
        "    {\"name\": \"Chair\", \"price\": 200, \"stock\": False}\n",
        "]\n",
        "\n",
        "for product in products:\n",
        "  if product[\"price\"] in range(50,100):\n",
        "    print(product[\"name\"])"
      ],
      "metadata": {
        "colab": {
          "base_uri": "https://localhost:8080/"
        },
        "id": "QuIPbzmHGFP2",
        "outputId": "0627dce8-073d-4e52-cea0-77d5910cd45a"
      },
      "execution_count": 24,
      "outputs": [
        {
          "output_type": "stream",
          "name": "stdout",
          "text": [
            "Book\n",
            "Cable\n"
          ]
        }
      ]
    },
    {
      "cell_type": "code",
      "source": [
        "banned_terms = {\"fake\",\"prohibited\", \"illegal\"}\n",
        "desc1 = \"This book is prohibited material.\"\n",
        "desc2 = desc1\n",
        "desc3 = \"Ethical original content.\"\n",
        "reviewed = []\n",
        "banned_terms_list = list(banned_terms)\n",
        "\n",
        "def error_checker(arg1,arg2):\n",
        "\n",
        "  for seen in reviewed:\n",
        "    if arg2 is seen:\n",
        "      print(\"Reviewed, skipping this....\")\n",
        "      return\n",
        "\n",
        "  for items in arg1:\n",
        "    if items in arg2:\n",
        "      print(\"CHECK\")\n",
        "      break\n",
        "\n",
        "  reviewed.append(arg2)\n",
        "\n",
        "error_checker(banned_terms_list,desc1)\n",
        "error_checker(banned_terms_list,desc2)\n",
        "error_checker(banned_terms_list,desc3)\n"
      ],
      "metadata": {
        "colab": {
          "base_uri": "https://localhost:8080/"
        },
        "id": "XjeryWM9ICNp",
        "outputId": "262ce5d6-2394-46d8-d661-ca60d536ce5c"
      },
      "execution_count": 46,
      "outputs": [
        {
          "output_type": "stream",
          "name": "stdout",
          "text": [
            "CHECK\n",
            "Reviewed, skipping this....\n"
          ]
        }
      ]
    },
    {
      "cell_type": "code",
      "source": [
        "scores = [0.67, 0.95, 0.92, 0.81, 0.75, 0.99]\n",
        "for score in scores:\n",
        "  if 0.8<=score<0.95:\n",
        "    print(score)"
      ],
      "metadata": {
        "colab": {
          "base_uri": "https://localhost:8080/"
        },
        "id": "nJr7BkUgKq7H",
        "outputId": "bebedde1-4cae-4949-862a-af741c49adcf"
      },
      "execution_count": 47,
      "outputs": [
        {
          "output_type": "stream",
          "name": "stdout",
          "text": [
            "0.92\n",
            "0.81\n"
          ]
        }
      ]
    },
    {
      "cell_type": "code",
      "source": [
        "products = [\n",
        "    {\"name\": \"Mouse\", \"price\": 30, \"stock\": False},\n",
        "    {\"name\": \"Monitor\", \"price\": 250, \"stock\": True},\n",
        "    {\"name\": \"Desk\", \"price\": 120, \"stock\": True},\n",
        "]\n",
        "for product in products:\n",
        "  if product[\"price\"]>150 or not product[\"stock\"]:\n",
        "    print(product[\"name\"])\n"
      ],
      "metadata": {
        "colab": {
          "base_uri": "https://localhost:8080/"
        },
        "id": "wdRwnp5Zfl4-",
        "outputId": "ead19aae-6c29-47d9-fb24-078ded1bcbaf"
      },
      "execution_count": 49,
      "outputs": [
        {
          "output_type": "stream",
          "name": "stdout",
          "text": [
            "Mouse\n",
            "Monitor\n"
          ]
        }
      ]
    },
    {
      "cell_type": "code",
      "source": [
        "a = 5\n",
        "b = 2\n",
        "c = 10\n",
        "print(a + b * c)       # What output?\n",
        "print((a + b) * c)     # What output?\n"
      ],
      "metadata": {
        "colab": {
          "base_uri": "https://localhost:8080/"
        },
        "id": "REAS0YlCgNvc",
        "outputId": "deabe82e-fe64-44bd-d615-aafaee0746df"
      },
      "execution_count": 52,
      "outputs": [
        {
          "output_type": "stream",
          "name": "stdout",
          "text": [
            "25\n",
            "70\n"
          ]
        }
      ]
    },
    {
      "cell_type": "code",
      "source": [
        "records = [\n",
        "    {\"score\": 91, \"urgent\": True, \"vip\": False},\n",
        "    {\"score\": 89, \"urgent\": True, \"vip\": False},\n",
        "    {\"score\": 95, \"urgent\": False, \"vip\": True},\n",
        "    {\"score\": 92, \"urgent\": True, \"vip\": True}\n",
        "]\n",
        "\n",
        "for record in records:\n",
        "  if (record[\"score\"]>90 and record[\"urgent\"] is True) ^ (record[\"vip\"] is True):\n",
        "    print(\"HIGH PRIORITY\")\n",
        "\n",
        "  else:\n",
        "    print(\"LOW PRIORITY\")"
      ],
      "metadata": {
        "colab": {
          "base_uri": "https://localhost:8080/"
        },
        "id": "MxosYm_hgvXS",
        "outputId": "aca9ad90-ad48-4af0-c905-d3373e5b6e2c"
      },
      "execution_count": 56,
      "outputs": [
        {
          "output_type": "stream",
          "name": "stdout",
          "text": [
            "HIGH PRIORITY\n",
            "LOW PRIORITY\n",
            "HIGH PRIORITY\n",
            "LOW PRIORITY\n"
          ]
        }
      ]
    },
    {
      "cell_type": "code",
      "source": [],
      "metadata": {
        "id": "mDdaAjS9hYma"
      },
      "execution_count": null,
      "outputs": []
    }
  ]
}