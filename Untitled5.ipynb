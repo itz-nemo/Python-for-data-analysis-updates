{
  "nbformat": 4,
  "nbformat_minor": 0,
  "metadata": {
    "colab": {
      "provenance": []
    },
    "kernelspec": {
      "name": "python3",
      "display_name": "Python 3"
    },
    "language_info": {
      "name": "python"
    }
  },
  "cells": [
    {
      "cell_type": "code",
      "execution_count": 1,
      "metadata": {
        "id": "DVCcJIjHCfLk"
      },
      "outputs": [],
      "source": [
        "if False:\n",
        "  print(\"False\")"
      ]
    },
    {
      "cell_type": "code",
      "source": [
        "if True:\n",
        "  print(\"True\")"
      ],
      "metadata": {
        "colab": {
          "base_uri": "https://localhost:8080/"
        },
        "id": "Gs_HwyfXDnOU",
        "outputId": "8da3f6c5-6e7f-418e-9c93-cc7b2c4d393e"
      },
      "execution_count": 2,
      "outputs": [
        {
          "output_type": "stream",
          "name": "stdout",
          "text": [
            "True\n"
          ]
        }
      ]
    },
    {
      "cell_type": "code",
      "source": [
        "x,y = 0,10\n",
        "safe_div = (x!=0) and (y/x>1)\n",
        "print(safe_div)\n"
      ],
      "metadata": {
        "colab": {
          "base_uri": "https://localhost:8080/"
        },
        "id": "gjT5T4sWDrDL",
        "outputId": "90a7b926-64be-44e2-a4b9-1583078bb42f"
      },
      "execution_count": 7,
      "outputs": [
        {
          "output_type": "stream",
          "name": "stdout",
          "text": [
            "False\n"
          ]
        }
      ]
    },
    {
      "cell_type": "code",
      "source": [
        "print(3 < 5 < 9, 10 > 7 == 7, 1 == 2 < 3)"
      ],
      "metadata": {
        "colab": {
          "base_uri": "https://localhost:8080/"
        },
        "id": "Hiqel9FPIC2E",
        "outputId": "af0399e1-1978-4db2-e6da-f6291d8040af"
      },
      "execution_count": 8,
      "outputs": [
        {
          "output_type": "stream",
          "name": "stdout",
          "text": [
            "True True False\n"
          ]
        }
      ]
    },
    {
      "cell_type": "code",
      "source": [
        "order_value1 = 560\n",
        "member1 = True\n",
        "\n",
        "order_value2=390\n",
        "member2 = True\n",
        "def bill_calc(order_value, member):\n",
        "\n",
        "  if order_value >=500 and member == True:\n",
        "    final_amount = order_value*0.8\n",
        "  elif order_value >= 200 and member == True:\n",
        "    final_amount = order_value*0.9\n",
        "  elif order_value >=500 and member != True:\n",
        "    final_amount = order_value*0.95\n",
        "  else:\n",
        "    final_amount = order_value\n",
        "  return final_amount\n",
        "\n",
        "print(bill_calc(order_value1, member1))\n",
        "print(bill_calc(order_value2, member2))\n",
        "\n"
      ],
      "metadata": {
        "colab": {
          "base_uri": "https://localhost:8080/"
        },
        "id": "-ZgtRsqYIDSB",
        "outputId": "c9a33d04-79c5-458f-c052-53d92146a7fe"
      },
      "execution_count": 20,
      "outputs": [
        {
          "output_type": "stream",
          "name": "stdout",
          "text": [
            "448.0\n",
            "351.0\n"
          ]
        }
      ]
    },
    {
      "cell_type": "code",
      "source": [
        "def label_string(str):\n",
        "  if \"urgent\" in str.lower():\n",
        "    print(\"HIGH\")\n",
        "  elif \"review\" in str.lower():\n",
        "    print(\"MEDIUM\")\n",
        "  else:\n",
        "    print(\"LOW\")\n",
        "\n",
        "s = \"Please REVIEW this by EOD\"\n",
        "label_string(s)"
      ],
      "metadata": {
        "colab": {
          "base_uri": "https://localhost:8080/"
        },
        "id": "39mOB0mZKDMr",
        "outputId": "bba36fc8-cb3d-4d01-fe69-56c11f742742"
      },
      "execution_count": 22,
      "outputs": [
        {
          "output_type": "stream",
          "name": "stdout",
          "text": [
            "MEDIUM\n"
          ]
        }
      ]
    },
    {
      "cell_type": "code",
      "source": [],
      "metadata": {
        "id": "L8Au2ZbBMjIu"
      },
      "execution_count": null,
      "outputs": []
    }
  ]
}