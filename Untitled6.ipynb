{
  "nbformat": 4,
  "nbformat_minor": 0,
  "metadata": {
    "colab": {
      "provenance": []
    },
    "kernelspec": {
      "name": "python3",
      "display_name": "Python 3"
    },
    "language_info": {
      "name": "python"
    }
  },
  "cells": [
    {
      "cell_type": "code",
      "execution_count": 1,
      "metadata": {
        "id": "0hIbwdeJfB_o"
      },
      "outputs": [],
      "source": [
        "my_list = [1,\"Python\",[\"R\",\"Java\",4]]"
      ]
    },
    {
      "cell_type": "code",
      "source": [
        "print(my_list[2][0])"
      ],
      "metadata": {
        "colab": {
          "base_uri": "https://localhost:8080/"
        },
        "id": "1g5g8IsKfOwg",
        "outputId": "27d70454-b991-400f-8b85-81d172543b18"
      },
      "execution_count": 2,
      "outputs": [
        {
          "output_type": "stream",
          "name": "stdout",
          "text": [
            "R\n"
          ]
        }
      ]
    },
    {
      "cell_type": "code",
      "source": [
        "job_skills = ['sql','tableau','excel']\n",
        "job_skills.append('python')\n",
        "print(job_skills)\n",
        "job_skills.remove('python')\n",
        "print(job_skills)"
      ],
      "metadata": {
        "colab": {
          "base_uri": "https://localhost:8080/"
        },
        "id": "1bxbdUvMfUaX",
        "outputId": "b0325c4b-84ad-4fe4-d870-269326e21acf"
      },
      "execution_count": 6,
      "outputs": [
        {
          "output_type": "stream",
          "name": "stdout",
          "text": [
            "['sql', 'tableau', 'excel', 'python']\n",
            "['sql', 'tableau', 'excel']\n"
          ]
        }
      ]
    },
    {
      "cell_type": "code",
      "source": [
        "len(job_skills)\n",
        "len('sqel')"
      ],
      "metadata": {
        "colab": {
          "base_uri": "https://localhost:8080/"
        },
        "id": "VHC2Y-W2f2n4",
        "outputId": "8eda5ba6-b823-44ed-8fb1-7f04b979411f"
      },
      "execution_count": 11,
      "outputs": [
        {
          "output_type": "execute_result",
          "data": {
            "text/plain": [
              "4"
            ]
          },
          "metadata": {},
          "execution_count": 11
        }
      ]
    },
    {
      "cell_type": "code",
      "source": [
        "print(job_skills)"
      ],
      "metadata": {
        "colab": {
          "base_uri": "https://localhost:8080/"
        },
        "id": "TOGrNTWRgIBu",
        "outputId": "8271ed13-ea1a-4016-80e2-3c9b2c09d028"
      },
      "execution_count": 12,
      "outputs": [
        {
          "output_type": "stream",
          "name": "stdout",
          "text": [
            "['sql', 'tableau', 'excel']\n"
          ]
        }
      ]
    },
    {
      "cell_type": "code",
      "source": [
        "job_skills.insert(2,'python')"
      ],
      "metadata": {
        "id": "OvnqWTwQgpUy"
      },
      "execution_count": 13,
      "outputs": []
    },
    {
      "cell_type": "code",
      "source": [
        "print(job_skills)"
      ],
      "metadata": {
        "colab": {
          "base_uri": "https://localhost:8080/"
        },
        "id": "9X32LNuhgsd5",
        "outputId": "a4590273-5c0e-414b-a7dd-fb882a1bb5e6"
      },
      "execution_count": 14,
      "outputs": [
        {
          "output_type": "stream",
          "name": "stdout",
          "text": [
            "['sql', 'tableau', 'python', 'excel']\n"
          ]
        }
      ]
    },
    {
      "cell_type": "code",
      "source": [
        "job_skills.insert(1,'nimish')\n",
        "print(job_skills)"
      ],
      "metadata": {
        "colab": {
          "base_uri": "https://localhost:8080/"
        },
        "id": "19iHfuLygt4X",
        "outputId": "35e553ae-97bf-475c-87c4-1e50f86637e5"
      },
      "execution_count": 18,
      "outputs": [
        {
          "output_type": "stream",
          "name": "stdout",
          "text": [
            "['sql', 'nimish', 'nimish', 'nimish', 'nimish', 'tableau', 'python', 'excel']\n"
          ]
        }
      ]
    },
    {
      "cell_type": "code",
      "source": [
        "job_skills.pop(2)"
      ],
      "metadata": {
        "colab": {
          "base_uri": "https://localhost:8080/",
          "height": 35
        },
        "id": "D64UPVkig1aA",
        "outputId": "230d01dc-4bc0-45f6-dfe3-27a39fcc8722"
      },
      "execution_count": 23,
      "outputs": [
        {
          "output_type": "execute_result",
          "data": {
            "text/plain": [
              "'nimish'"
            ],
            "application/vnd.google.colaboratory.intrinsic+json": {
              "type": "string"
            }
          },
          "metadata": {},
          "execution_count": 23
        }
      ]
    },
    {
      "cell_type": "code",
      "source": [
        "print(job_skills)"
      ],
      "metadata": {
        "colab": {
          "base_uri": "https://localhost:8080/"
        },
        "id": "zyPEV2gVhRtR",
        "outputId": "96a67142-378f-47d7-d206-cbdb82931de4"
      },
      "execution_count": 24,
      "outputs": [
        {
          "output_type": "stream",
          "name": "stdout",
          "text": [
            "['sql', 'nimish', 'tableau', 'python', 'excel']\n"
          ]
        }
      ]
    },
    {
      "cell_type": "code",
      "source": [
        "job_skills[0::2]"
      ],
      "metadata": {
        "colab": {
          "base_uri": "https://localhost:8080/"
        },
        "id": "kdC3SJ0ehVdc",
        "outputId": "92b3be6e-82bf-4202-ca2e-707bdae09252"
      },
      "execution_count": 28,
      "outputs": [
        {
          "output_type": "execute_result",
          "data": {
            "text/plain": [
              "['sql', 'tableau', 'excel']"
            ]
          },
          "metadata": {},
          "execution_count": 28
        }
      ]
    },
    {
      "cell_type": "code",
      "source": [
        "a = [1,2,3]\n",
        "b = [4,5,6]\n",
        "d = [7,8,9]\n",
        "c = a+b+d\n",
        "c"
      ],
      "metadata": {
        "colab": {
          "base_uri": "https://localhost:8080/"
        },
        "id": "9vEN22c4hkHS",
        "outputId": "e3639e9a-88ad-445b-d2af-d0b689e4f0b3"
      },
      "execution_count": 30,
      "outputs": [
        {
          "output_type": "execute_result",
          "data": {
            "text/plain": [
              "[1, 2, 3, 4, 5, 6, 7, 8, 9]"
            ]
          },
          "metadata": {},
          "execution_count": 30
        }
      ]
    },
    {
      "cell_type": "code",
      "source": [
        "c[len(c)-1]"
      ],
      "metadata": {
        "colab": {
          "base_uri": "https://localhost:8080/"
        },
        "id": "lwK0djm5iDaI",
        "outputId": "2e3aabd8-8f5d-48da-f2b7-5fc2a8533829"
      },
      "execution_count": 33,
      "outputs": [
        {
          "output_type": "execute_result",
          "data": {
            "text/plain": [
              "9"
            ]
          },
          "metadata": {},
          "execution_count": 33
        }
      ]
    },
    {
      "cell_type": "code",
      "source": [
        "job_skills"
      ],
      "metadata": {
        "colab": {
          "base_uri": "https://localhost:8080/"
        },
        "id": "mujPBPWfiho6",
        "outputId": "bc8df159-b2dd-42cc-c2ed-72d84e80b378"
      },
      "execution_count": 34,
      "outputs": [
        {
          "output_type": "execute_result",
          "data": {
            "text/plain": [
              "['sql', 'nimish', 'tableau', 'python', 'excel']"
            ]
          },
          "metadata": {},
          "execution_count": 34
        }
      ]
    },
    {
      "cell_type": "code",
      "source": [
        "s1,s2,s3,s4,s5 = job_skills"
      ],
      "metadata": {
        "id": "mnSISp9wjCHC"
      },
      "execution_count": 35,
      "outputs": []
    },
    {
      "cell_type": "code",
      "source": [
        "s1"
      ],
      "metadata": {
        "colab": {
          "base_uri": "https://localhost:8080/",
          "height": 35
        },
        "id": "e_RthkpPjG9c",
        "outputId": "257283b3-f0c3-4130-818a-f0997252aade"
      },
      "execution_count": 36,
      "outputs": [
        {
          "output_type": "execute_result",
          "data": {
            "text/plain": [
              "'sql'"
            ],
            "application/vnd.google.colaboratory.intrinsic+json": {
              "type": "string"
            }
          },
          "metadata": {},
          "execution_count": 36
        }
      ]
    },
    {
      "cell_type": "code",
      "source": [
        "s4"
      ],
      "metadata": {
        "colab": {
          "base_uri": "https://localhost:8080/",
          "height": 35
        },
        "id": "Ae4N5VDWjHy5",
        "outputId": "d3944a9b-5cda-42d2-fc92-8722442af0c1"
      },
      "execution_count": 37,
      "outputs": [
        {
          "output_type": "execute_result",
          "data": {
            "text/plain": [
              "'python'"
            ],
            "application/vnd.google.colaboratory.intrinsic+json": {
              "type": "string"
            }
          },
          "metadata": {},
          "execution_count": 37
        }
      ]
    },
    {
      "cell_type": "code",
      "source": [
        "skill_cared, *skill_uncared = job_skills"
      ],
      "metadata": {
        "id": "BYrWdOgrjI1P"
      },
      "execution_count": 38,
      "outputs": []
    },
    {
      "cell_type": "code",
      "source": [
        "skill_cared"
      ],
      "metadata": {
        "colab": {
          "base_uri": "https://localhost:8080/",
          "height": 35
        },
        "id": "cmUUzw_1jktG",
        "outputId": "5bf247ff-a131-47aa-870a-d48f2e1f8419"
      },
      "execution_count": 39,
      "outputs": [
        {
          "output_type": "execute_result",
          "data": {
            "text/plain": [
              "'sql'"
            ],
            "application/vnd.google.colaboratory.intrinsic+json": {
              "type": "string"
            }
          },
          "metadata": {},
          "execution_count": 39
        }
      ]
    },
    {
      "cell_type": "code",
      "source": [
        "skill_uncared"
      ],
      "metadata": {
        "colab": {
          "base_uri": "https://localhost:8080/"
        },
        "id": "2myaX82rjmTk",
        "outputId": "0c5784ab-c4d3-4553-c3da-a784a7e1750b"
      },
      "execution_count": 40,
      "outputs": [
        {
          "output_type": "execute_result",
          "data": {
            "text/plain": [
              "['nimish', 'tableau', 'python', 'excel']"
            ]
          },
          "metadata": {},
          "execution_count": 40
        }
      ]
    },
    {
      "cell_type": "code",
      "source": [
        "nums = [1,2,3]\n",
        "a = nums.copy()\n",
        "a.append(99)\n",
        "a\n",
        "b = nums.copy()\n",
        "b.extend([99,100])\n",
        "b\n",
        "c = nums.copy()\n",
        "c.insert(1,99)\n",
        "c"
      ],
      "metadata": {
        "colab": {
          "base_uri": "https://localhost:8080/"
        },
        "id": "ZRGBz9fojnry",
        "outputId": "a2248c10-cb9e-4324-d8c5-5c5d28ecf614"
      },
      "execution_count": 48,
      "outputs": [
        {
          "output_type": "execute_result",
          "data": {
            "text/plain": [
              "[1, 99, 2, 3]"
            ]
          },
          "metadata": {},
          "execution_count": 48
        }
      ]
    },
    {
      "cell_type": "code",
      "source": [
        "c"
      ],
      "metadata": {
        "colab": {
          "base_uri": "https://localhost:8080/"
        },
        "id": "s0cgZoaloaJ5",
        "outputId": "071cb3b7-d878-4302-b838-e3cdbd9cf9de"
      },
      "execution_count": 49,
      "outputs": [
        {
          "output_type": "execute_result",
          "data": {
            "text/plain": [
              "[1, 99, 2, 3]"
            ]
          },
          "metadata": {},
          "execution_count": 49
        }
      ]
    },
    {
      "cell_type": "code",
      "source": [
        "c\n",
        "c.remove(99)"
      ],
      "metadata": {
        "id": "3ugClzfjqGkw"
      },
      "execution_count": 57,
      "outputs": []
    },
    {
      "cell_type": "code",
      "source": [
        "fruits = [\"apple\",\"banana\",\"apple\",\"kiwi\",\"banana\",\"pear\"]\n",
        "print(fruits.count(\"apple\"))\n",
        "print(fruits.index(\"banana\"))\n",
        "print(fruits.index(\"banana\", 3))"
      ],
      "metadata": {
        "colab": {
          "base_uri": "https://localhost:8080/"
        },
        "id": "Ki-OAsvZqHjE",
        "outputId": "6fdb7541-126e-4762-bc7c-979dde7d52fa"
      },
      "execution_count": 60,
      "outputs": [
        {
          "output_type": "stream",
          "name": "stdout",
          "text": [
            "2\n",
            "1\n",
            "4\n"
          ]
        }
      ]
    },
    {
      "cell_type": "code",
      "source": [
        "x = [3,5,2,7,3]\n",
        "print(x.sort())\n",
        "print(x)"
      ],
      "metadata": {
        "colab": {
          "base_uri": "https://localhost:8080/"
        },
        "id": "qyM1zIsHrKou",
        "outputId": "9ac6f985-63e2-4db6-cf33-0cf49a902cad"
      },
      "execution_count": 64,
      "outputs": [
        {
          "output_type": "stream",
          "name": "stdout",
          "text": [
            "None\n",
            "[2, 3, 3, 5, 7]\n"
          ]
        }
      ]
    },
    {
      "cell_type": "code",
      "source": [
        "skills = [\"sql\",\"python\",\"sql\",\"excel\",\"python\",\"pandas\"]\n",
        "seen = set()\n",
        "result = []\n",
        "for skill in skills:\n",
        "  if skill not in seen:\n",
        "    result.append(skill)\n",
        "    seen.add(skill)\n",
        "print(result)"
      ],
      "metadata": {
        "colab": {
          "base_uri": "https://localhost:8080/"
        },
        "id": "vcSDbkydr5Hd",
        "outputId": "eebe7b83-0158-4a93-e62a-a0b6bb723a43"
      },
      "execution_count": 2,
      "outputs": [
        {
          "output_type": "stream",
          "name": "stdout",
          "text": [
            "['sql', 'python', 'excel', 'pandas']\n"
          ]
        }
      ]
    },
    {
      "cell_type": "code",
      "source": [
        "skills = [\"sql\",\"python\",\"sql\",\"excel\",\"python\",\"pandas\"]\n",
        "result = list(dict.fromkeys(skills))\n",
        "print(result)"
      ],
      "metadata": {
        "colab": {
          "base_uri": "https://localhost:8080/"
        },
        "id": "IpeIWCdk03Z5",
        "outputId": "97238bde-8712-4abb-d2e9-d82668ba10dd"
      },
      "execution_count": 3,
      "outputs": [
        {
          "output_type": "stream",
          "name": "stdout",
          "text": [
            "['sql', 'python', 'excel', 'pandas']\n"
          ]
        }
      ]
    },
    {
      "cell_type": "code",
      "source": [
        "items = []\n",
        "for i in range(25):\n",
        "  items.append(f'item.no = {i}')\n",
        "print(items)\n",
        "del items[0:20]\n",
        "print(items)\n",
        "items.pop()\n",
        "print(items)"
      ],
      "metadata": {
        "colab": {
          "base_uri": "https://localhost:8080/"
        },
        "id": "c7C_oLfx1Dxo",
        "outputId": "5ccbfb4e-93c1-4678-a917-a8d8beaea524"
      },
      "execution_count": 19,
      "outputs": [
        {
          "output_type": "stream",
          "name": "stdout",
          "text": [
            "['item.no = 0', 'item.no = 1', 'item.no = 2', 'item.no = 3', 'item.no = 4', 'item.no = 5', 'item.no = 6', 'item.no = 7', 'item.no = 8', 'item.no = 9', 'item.no = 10', 'item.no = 11', 'item.no = 12', 'item.no = 13', 'item.no = 14', 'item.no = 15', 'item.no = 16', 'item.no = 17', 'item.no = 18', 'item.no = 19', 'item.no = 20', 'item.no = 21', 'item.no = 22', 'item.no = 23', 'item.no = 24']\n",
            "['item.no = 20', 'item.no = 21', 'item.no = 22', 'item.no = 23', 'item.no = 24']\n",
            "['item.no = 20', 'item.no = 21', 'item.no = 22', 'item.no = 23']\n"
          ]
        }
      ]
    },
    {
      "cell_type": "code",
      "source": [
        "base = [1,2]\n",
        "alias = base\n",
        "shallow = base.copy()\n",
        "alias.append(99)\n",
        "print(base,alias,shallow)\n"
      ],
      "metadata": {
        "colab": {
          "base_uri": "https://localhost:8080/"
        },
        "id": "JmffvMOz2SXJ",
        "outputId": "784083db-28f3-4dc2-a616-8c1ff120808b"
      },
      "execution_count": 21,
      "outputs": [
        {
          "output_type": "stream",
          "name": "stdout",
          "text": [
            "[1, 2, 99] [1, 2, 99] [1, 2]\n"
          ]
        }
      ]
    },
    {
      "cell_type": "code",
      "source": [
        "names = [\"USB\",\"Mouse\",\"Keyboard\"]\n",
        "prices = [299,499,999]\n",
        "result1 = list(zip(names,prices))\n",
        "result2 = [(names[i],prices[i]) for i in range(len(names))]\n",
        "print(result1,result2)\n"
      ],
      "metadata": {
        "colab": {
          "base_uri": "https://localhost:8080/"
        },
        "id": "rSVHl7k_31fC",
        "outputId": "46112e2f-5be9-441c-9e82-576b83b5ca1c"
      },
      "execution_count": 25,
      "outputs": [
        {
          "output_type": "stream",
          "name": "stdout",
          "text": [
            "[('USB', 299), ('Mouse', 499), ('Keyboard', 999)] [('USB', 299), ('Mouse', 499), ('Keyboard', 999)]\n"
          ]
        }
      ]
    },
    {
      "cell_type": "code",
      "source": [
        "items = [(\"apple\", 3), (\"pear\", 2), (\"banana\", 2), (\"kiwi\", 5)]\n",
        "items.sort(key=lambda x: (x[1],x[0]))\n",
        "print(items)"
      ],
      "metadata": {
        "colab": {
          "base_uri": "https://localhost:8080/"
        },
        "id": "ABnZMr1q6NrF",
        "outputId": "74344a7a-4cad-4ff0-b843-c459cbb9bf45"
      },
      "execution_count": 30,
      "outputs": [
        {
          "output_type": "stream",
          "name": "stdout",
          "text": [
            "[('banana', 2), ('pear', 2), ('apple', 3), ('kiwi', 5)]\n"
          ]
        }
      ]
    },
    {
      "cell_type": "code",
      "source": [
        "items = [(\"apple\", 3), (\"pear\", 2), (\"banana\", 2), (\"kiwi\", 5)]\n",
        "items.sort(key=lambda x: x[1])\n",
        "print(items)"
      ],
      "metadata": {
        "colab": {
          "base_uri": "https://localhost:8080/"
        },
        "id": "tL3-QGEK9YiZ",
        "outputId": "fe06b0df-90ee-4b55-b0de-dc68a5448dfd"
      },
      "execution_count": 29,
      "outputs": [
        {
          "output_type": "stream",
          "name": "stdout",
          "text": [
            "[('pear', 2), ('banana', 2), ('apple', 3), ('kiwi', 5)]\n"
          ]
        }
      ]
    },
    {
      "cell_type": "code",
      "source": [],
      "metadata": {
        "id": "0zX9EwPx-fPn"
      },
      "execution_count": null,
      "outputs": []
    }
  ]
}