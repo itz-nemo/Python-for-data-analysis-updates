{
  "nbformat": 4,
  "nbformat_minor": 0,
  "metadata": {
    "colab": {
      "provenance": []
    },
    "kernelspec": {
      "name": "python3",
      "display_name": "Python 3"
    },
    "language_info": {
      "name": "python"
    }
  },
  "cells": [
    {
      "cell_type": "code",
      "execution_count": 5,
      "metadata": {
        "colab": {
          "base_uri": "https://localhost:8080/"
        },
        "id": "Dtp3lSUWasLf",
        "outputId": "6c53d963-08d7-4ef1-d202-416970dfad9d"
      },
      "outputs": [
        {
          "output_type": "stream",
          "name": "stdout",
          "text": [
            "Customer ID: 101\n",
            "Name: Alice\n",
            "Age: 29\n",
            "Country: USA\n"
          ]
        }
      ],
      "source": [
        "record = (101,\"Alice\",29,\"USA\")\n",
        "cust_id,name,age,country = record\n",
        "print(f'Customer ID: {cust_id}')\n",
        "print(f'Name: {name}')\n",
        "print(f'Age: {age}')\n",
        "print(f'Country: {country}')"
      ]
    },
    {
      "cell_type": "code",
      "source": [
        "group1 = {\"Python\", \"Java\", \"C++\", \"SQL\"}\n",
        "group2 = {\"Java\", \"C#\", \"Python\", \"JavaScript\"}\n",
        "intersection1 = group1 & group2\n",
        "print(intersection1)\n",
        "unique_grp1 = group1 - group2\n",
        "print(unique_grp1)\n",
        "unique_grp2 = group2 - group1\n",
        "print(unique_grp2)\n",
        "common_between = group1 ^ group2\n",
        "print(common_between)"
      ],
      "metadata": {
        "colab": {
          "base_uri": "https://localhost:8080/"
        },
        "id": "MaVZqnzOeZ9o",
        "outputId": "4f383a29-0da2-4b74-833d-a8f233234909"
      },
      "execution_count": 12,
      "outputs": [
        {
          "output_type": "stream",
          "name": "stdout",
          "text": [
            "{'Java', 'Python'}\n",
            "{'SQL', 'C++'}\n",
            "{'C#', 'JavaScript'}\n",
            "{'SQL', 'C#', 'JavaScript', 'C++'}\n"
          ]
        }
      ]
    },
    {
      "cell_type": "code",
      "source": [
        "list1 = []\n",
        "usernames = [\" Alice\", \"bob\", \"alice \", \"Bob\", \"CHARLIE\", \"charlie \"]\n",
        "for i in usernames:\n",
        "  list1.append(i.strip().lower())\n",
        "list_final = set(list1)\n",
        "print(list_final)"
      ],
      "metadata": {
        "colab": {
          "base_uri": "https://localhost:8080/"
        },
        "id": "FMGIUMA9ffJw",
        "outputId": "f9412a4d-c3e1-487b-fbb6-822a9f7e9003"
      },
      "execution_count": 19,
      "outputs": [
        {
          "output_type": "stream",
          "name": "stdout",
          "text": [
            "{'charlie', 'alice', 'bob'}\n"
          ]
        }
      ]
    },
    {
      "cell_type": "code",
      "source": [
        "list_clean = {name.strip().lower() for name in usernames}\n",
        "print(list_clean)"
      ],
      "metadata": {
        "colab": {
          "base_uri": "https://localhost:8080/"
        },
        "id": "wiuNs8w-h7WT",
        "outputId": "7a73f578-d3fe-4ba2-d039-e89e2e1b60a6"
      },
      "execution_count": 20,
      "outputs": [
        {
          "output_type": "stream",
          "name": "stdout",
          "text": [
            "{'charlie', 'alice', 'bob'}\n"
          ]
        }
      ]
    },
    {
      "cell_type": "code",
      "source": [
        "fraud_ids = {101, 202, 303}\n",
        "transaction_user_ids = [101, 404, 202, 505, 606, 303, 707]\n",
        "clean_list = fraud_ids & set(transaction_user_ids)\n",
        "print(clean_list)"
      ],
      "metadata": {
        "colab": {
          "base_uri": "https://localhost:8080/"
        },
        "id": "D3LDRLZLjNor",
        "outputId": "7a9128c2-e68d-4050-ee73-ed46a047a7b7"
      },
      "execution_count": 22,
      "outputs": [
        {
          "output_type": "stream",
          "name": "stdout",
          "text": [
            "{202, 101, 303}\n"
          ]
        }
      ]
    },
    {
      "cell_type": "code",
      "source": [
        "demographics = {\n",
        "    (\"New York\", \"10001\"): {\"population\": 211000, \"median_age\": 36},\n",
        "    (\"Los Angeles\", \"90001\"): {\"population\": 95000,  \"median_age\": 34},\n",
        "    (\"Chicago\", \"60601\"): {\"population\": 67000,  \"median_age\": 38},\n",
        "}\n",
        "\n",
        "city_zip = (\"New York\",\"10001\")\n",
        "info = demographics[city_zip]\n",
        "print(info)"
      ],
      "metadata": {
        "colab": {
          "base_uri": "https://localhost:8080/"
        },
        "id": "D1pHxoyojiA8",
        "outputId": "7c08a97f-6255-45b6-d61f-0eadb939a9c3"
      },
      "execution_count": 23,
      "outputs": [
        {
          "output_type": "stream",
          "name": "stdout",
          "text": [
            "{'population': 211000, 'median_age': 36}\n"
          ]
        }
      ]
    },
    {
      "cell_type": "code",
      "source": [
        "campaign_a = {\"cust1\", \"cust2\", \"cust3\", \"cust4\"}\n",
        "campaign_b = {\"cust3\", \"cust4\", \"cust5\", \"cust6\"}\n",
        "print(campaign_a & campaign_b)\n",
        "print(campaign_a ^ campaign_b)\n",
        "print (campaign_a - campaign_b)"
      ],
      "metadata": {
        "colab": {
          "base_uri": "https://localhost:8080/"
        },
        "id": "l6WA8RMVlYXo",
        "outputId": "8ea5278f-b7e9-4df5-8c1a-4e16979ee9af"
      },
      "execution_count": 30,
      "outputs": [
        {
          "output_type": "stream",
          "name": "stdout",
          "text": [
            "{'cust3', 'cust4'}\n",
            "{'cust5', 'cust6', 'cust2', 'cust1'}\n",
            "{'cust2', 'cust1'}\n"
          ]
        }
      ]
    },
    {
      "cell_type": "code",
      "source": [],
      "metadata": {
        "id": "w_vx_2SYlvhv"
      },
      "execution_count": null,
      "outputs": []
    }
  ]
}