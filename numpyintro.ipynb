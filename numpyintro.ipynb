{
  "nbformat": 4,
  "nbformat_minor": 0,
  "metadata": {
    "colab": {
      "provenance": []
    },
    "kernelspec": {
      "name": "python3",
      "display_name": "Python 3"
    },
    "language_info": {
      "name": "python"
    }
  },
  "cells": [
    {
      "cell_type": "code",
      "source": [
        "import numpy as np"
      ],
      "metadata": {
        "id": "6pTqRAJkoRRa"
      },
      "execution_count": 5,
      "outputs": []
    },
    {
      "cell_type": "code",
      "execution_count": 1,
      "metadata": {
        "id": "ptYKNZBam9Zq"
      },
      "outputs": [],
      "source": [
        "##1 Homogeneity and heterogeneity. The list can contain the data of different types where as ndarray has same types. This helps in avoiding multiple loops while doing mathematical operations."
      ]
    },
    {
      "cell_type": "code",
      "source": [
        "##2 dtypes define the type of data(int, float etc) inside the array, ie what kind of data is available there. This helps in fastening up calcualations as it knows the data type, also the memory optimisation is good as well.Data cleaning, changing dtypes etc are key features as well. There are many more features but I will not explain them right now."
      ],
      "metadata": {
        "id": "5RgLq8sVnM5J"
      },
      "execution_count": 2,
      "outputs": []
    },
    {
      "cell_type": "code",
      "source": [
        "##3 B np.zeros(5)"
      ],
      "metadata": {
        "id": "Db1unYZxnOCL"
      },
      "execution_count": 3,
      "outputs": []
    },
    {
      "cell_type": "code",
      "source": [
        "##4 The question is not correct"
      ],
      "metadata": {
        "id": "STDe3R_ZnOz0"
      },
      "execution_count": 4,
      "outputs": []
    },
    {
      "cell_type": "code",
      "source": [
        "##5\n",
        "arr = np.arange(12)\n",
        "arr2 = arr.reshape(3,4)\n",
        "arr2"
      ],
      "metadata": {
        "colab": {
          "base_uri": "https://localhost:8080/"
        },
        "id": "OT57-gTLnPaE",
        "outputId": "27516b39-6594-46e8-e252-6e740263c67b"
      },
      "execution_count": 12,
      "outputs": [
        {
          "output_type": "execute_result",
          "data": {
            "text/plain": [
              "array([[ 0,  1,  2,  3],\n",
              "       [ 4,  5,  6,  7],\n",
              "       [ 8,  9, 10, 11]])"
            ]
          },
          "metadata": {},
          "execution_count": 12
        }
      ]
    },
    {
      "cell_type": "code",
      "source": [
        "##6\n",
        "print((np.arange(10))*10)"
      ],
      "metadata": {
        "colab": {
          "base_uri": "https://localhost:8080/"
        },
        "id": "fEB3ZOytoTrj",
        "outputId": "6ebd3c40-011c-4057-dd62-f69f69ec3f90"
      },
      "execution_count": 20,
      "outputs": [
        {
          "output_type": "stream",
          "name": "stdout",
          "text": [
            "[ 0 10 20 30 40 50 60 70 80 90]\n"
          ]
        }
      ]
    },
    {
      "cell_type": "code",
      "source": [
        "##7\n",
        "arr = np.array([5, 10, 15, 20, 25])\n",
        "arr[0:3]"
      ],
      "metadata": {
        "colab": {
          "base_uri": "https://localhost:8080/"
        },
        "id": "RqRQU-CWoUvP",
        "outputId": "89520890-7f3a-4257-a0ec-b9d89184023b"
      },
      "execution_count": 22,
      "outputs": [
        {
          "output_type": "execute_result",
          "data": {
            "text/plain": [
              "array([ 5, 10, 15])"
            ]
          },
          "metadata": {},
          "execution_count": 22
        }
      ]
    },
    {
      "cell_type": "code",
      "source": [
        "##8\n",
        "data = np.array([7.5, 8.0, 9.0, 10.5])\n",
        "print(data.sum())\n",
        "print(data.mean())"
      ],
      "metadata": {
        "colab": {
          "base_uri": "https://localhost:8080/"
        },
        "id": "E1m65goiqHu7",
        "outputId": "d105ecb6-0a98-4c85-8586-8f7749ee7b84"
      },
      "execution_count": 25,
      "outputs": [
        {
          "output_type": "stream",
          "name": "stdout",
          "text": [
            "35.0\n",
            "8.75\n"
          ]
        }
      ]
    },
    {
      "cell_type": "code",
      "source": [
        "##9\n",
        "vals = np.array([3, 7, 2, 9, 1, 8])\n",
        "print(vals[vals>5])"
      ],
      "metadata": {
        "colab": {
          "base_uri": "https://localhost:8080/"
        },
        "id": "PJstZ6MhqYJL",
        "outputId": "3dc5e6b4-5406-454a-970c-9f33c81b9e06"
      },
      "execution_count": 26,
      "outputs": [
        {
          "output_type": "stream",
          "name": "stdout",
          "text": [
            "[7 9 8]\n"
          ]
        }
      ]
    },
    {
      "cell_type": "code",
      "source": [
        "##10\n",
        "arr = np.array([1, 2, 3, 4])\n",
        "arr_float = arr.astype(float)\n",
        "print(arr)\n",
        "print(arr.dtype)\n",
        "print(arr_float)\n",
        "print(arr_float.dtype)"
      ],
      "metadata": {
        "colab": {
          "base_uri": "https://localhost:8080/"
        },
        "id": "5MaahG6MrWMD",
        "outputId": "a4b8b3f7-861f-4df5-dbed-b3eed6dee77d"
      },
      "execution_count": 32,
      "outputs": [
        {
          "output_type": "stream",
          "name": "stdout",
          "text": [
            "[1 2 3 4]\n",
            "int64\n",
            "[1. 2. 3. 4.]\n",
            "float64\n"
          ]
        }
      ]
    },
    {
      "cell_type": "code",
      "source": [],
      "metadata": {
        "id": "7vRMXCTBreCe"
      },
      "execution_count": null,
      "outputs": []
    }
  ]
}